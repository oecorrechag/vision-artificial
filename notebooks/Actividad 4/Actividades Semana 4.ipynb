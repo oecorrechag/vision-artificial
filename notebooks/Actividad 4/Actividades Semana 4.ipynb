{
 "cells": [
  {
   "cell_type": "markdown",
   "metadata": {},
   "source": [
    "# Actividades Semana 4"
   ]
  },
  {
   "cell_type": "markdown",
   "metadata": {},
   "source": [
    "A continuación se presentan los ejercicios que el estudiante debe desarrollar, para afianzar los conceptos vistos acerca de transformaciones básicas de la imagen."
   ]
  },
  {
   "cell_type": "code",
   "execution_count": null,
   "metadata": {},
   "outputs": [],
   "source": [
    "###Espacio para importar las librerías###\n",
    "\n",
    "#Magic para mostrar imágenes en Jupyter usando matplotlib\n",
    "%matplotlib inline \n",
    "\n",
    "import numpy as np\n",
    "import cv2\n",
    "import matplotlib.pyplot as plt"
   ]
  },
  {
   "cell_type": "markdown",
   "metadata": {},
   "source": [
    "## Actividad 1."
   ]
  },
  {
   "cell_type": "markdown",
   "metadata": {},
   "source": [
    "Lea la imagen \"frutas.jpg\" que se encuentra en la carpeta \"res\", realice el subplot de ésta en los canales RGB, HSV, LAB, YUV y XYZ. \n",
    "\n",
    "<br>Genere, compare y analice los histogramas de los canales correspondientes a cada espacio de color, ¿Se parece éste método al que planteó con anterioridad?</br>\n",
    "\n",
    "<b>Recuerde poner títulos y subtítulos a las imágenes y los histogramas</b>"
   ]
  },
  {
   "cell_type": "code",
   "execution_count": null,
   "metadata": {},
   "outputs": [],
   "source": [
    "#Leer y plotear la imagen de trabajo\n",
    "img = cv2.imread(\"res/frutas.jpg\", cv2.IMREAD_COLOR)"
   ]
  },
  {
   "cell_type": "code",
   "execution_count": null,
   "metadata": {},
   "outputs": [],
   "source": [
    "# espacio de color RGB\n",
    "img_rgb  = cv2.cvtColor(img, cv2.COLOR_BGR2RGB)\n",
    "img_R = img_rgb[:,:,0]\n",
    "img_G = img_rgb[:,:,1]\n",
    "img_B = img_rgb[:,:,2]\n",
    "\n",
    "img_array_0 = img_R.ravel()\n",
    "img_array_1 = img_G.ravel()\n",
    "img_array_2 = img_B.ravel()"
   ]
  },
  {
   "cell_type": "code",
   "execution_count": null,
   "metadata": {},
   "outputs": [],
   "source": [
    "fig, ((ax1, ax2, ax3), (ax4, ax5, ax6)) = plt.subplots(2,3, figsize=(12, 4))\n",
    "#fig.subplots_adjust(hspace=20)\n",
    "#fig.suptitle('Canal RBG y sus histogramas', fontsize=20)\n",
    "\n",
    "\n",
    "ax1.set_title('Canal R del RGB')\n",
    "ax1.imshow(img_R, cmap='Reds', aspect='auto')\n",
    "ax2.set_title('Canal G del RGB')\n",
    "ax2.imshow(img_G, cmap='Greens', aspect='auto')\n",
    "ax3.set_title('Canal B del RGB')\n",
    "ax3.imshow(img_B, cmap='Blues', aspect='auto')\n",
    "\n",
    "ax4.set_title('Histograma canal R del RGB')\n",
    "ax4.hist(img_array_0,histtype='step', bins=255,\n",
    "          range=(0.0, 255.0),density=True, color='r')\n",
    "ax5.set_title('Histograma canal G del RGB')\n",
    "ax5.hist(img_array_1,histtype='step', bins=255,\n",
    "          range=(0.0, 255.0),density=True, color='g')\n",
    "ax6.set_title('Histograma canal B del RGB')\n",
    "ax6.hist(img_array_2,histtype='step', bins=255,\n",
    "          range=(0.0, 255.0),density=True, color='b')\n",
    "plt.tight_layout();"
   ]
  },
  {
   "cell_type": "markdown",
   "metadata": {},
   "source": [
    "CONCLUSION: Para los histogramas R y G se presenta que la imagen es muy clara con exceso de brillo. Para el histograma B se presenta una imagen con mucho contraste y muy pocos tonos medios."
   ]
  },
  {
   "cell_type": "code",
   "execution_count": null,
   "metadata": {},
   "outputs": [],
   "source": [
    "# Espacio de color HSV\n",
    "img_hsv = cv2.cvtColor(img, cv2.COLOR_BGR2HSV)\n",
    "img_H = img_hsv[:,:,0]\n",
    "img_S =  img_hsv[:,:,1]\n",
    "img_V = img_hsv[:,:,2]\n",
    "\n",
    "img_array_3 = img_H.ravel()\n",
    "img_array_4 = img_S.ravel()\n",
    "img_array_5 = img_V.ravel()"
   ]
  },
  {
   "cell_type": "code",
   "execution_count": null,
   "metadata": {},
   "outputs": [],
   "source": [
    "fig, ((ax1, ax2, ax3), (ax4, ax5, ax6)) = plt.subplots(2,3, figsize=(12, 4))\n",
    "#fig.suptitle('Canal HSV y sus histogramas', fontsize=20)\n",
    "\n",
    "ax1.set_title('Canal H del HSV')\n",
    "ax1.imshow(img_H, cmap='gray', aspect='auto')\n",
    "ax2.set_title('Canal S del HSV')\n",
    "ax2.imshow(img_S, cmap='gray', aspect='auto')\n",
    "ax3.set_title('Canal V del HSV')\n",
    "ax3.imshow(img_V, cmap='gray', aspect='auto')\n",
    "\n",
    "ax4.set_title('Histograma canal H del HSV')\n",
    "ax4.hist(img_array_3,histtype='step', bins=255,\n",
    "          range=(0.0, 255.0),density=True, color='r')\n",
    "ax5.set_title('Histograma canal S del HSV')\n",
    "ax5.hist(img_array_4,histtype='step', bins=255,\n",
    "          range=(0.0, 255.0),density=True, color='g')\n",
    "ax6.set_title('Histograma canal V del HSV')\n",
    "ax6.hist(img_array_5,histtype='step', bins=255,\n",
    "          range=(0.0, 255.0),density=True, color='b')\n",
    "plt.tight_layout();"
   ]
  },
  {
   "cell_type": "markdown",
   "metadata": {},
   "source": [
    "CONCLUSION: Para el histograma H se presenta una imagen muy oscura, para el histograma S se presenta una imagen una imagen con mucho contraste y pocos tonos medios, para el histograma V se presenta una imagen muy clara con exceso de brillo. "
   ]
  },
  {
   "cell_type": "code",
   "execution_count": null,
   "metadata": {},
   "outputs": [],
   "source": [
    "# espacio de color LAB\n",
    "img_lab  = cv2.cvtColor(img, cv2.COLOR_BGR2LAB)\n",
    "img_L = img_lab[:,:,0]\n",
    "img_A =  img_lab[:,:,1]\n",
    "img_BB = img_lab[:,:,2]\n",
    "\n",
    "img_array_6 = img_L.ravel()\n",
    "img_array_7 = img_A.ravel()\n",
    "img_array_8 = img_BB.ravel()"
   ]
  },
  {
   "cell_type": "code",
   "execution_count": null,
   "metadata": {},
   "outputs": [],
   "source": [
    "fig, ((ax1, ax2, ax3), (ax4, ax5, ax6)) = plt.subplots(2,3, figsize=(12, 4))\n",
    "#fig.suptitle('Canal LAB y sus histogramas', fontsize=20)\n",
    "\n",
    "ax1.set_title('Canal L del LAB')\n",
    "ax1.imshow(img_L, cmap='gray', aspect='auto')\n",
    "ax2.set_title('Canal A del LAB')\n",
    "ax2.imshow(img_A, cmap='gray', aspect='auto')\n",
    "ax3.set_title('Canal B del LAB')\n",
    "ax3.imshow(img_BB, cmap='gray', aspect='auto')\n",
    "\n",
    "ax4.set_title('Histograma canal L del LAB')\n",
    "ax4.hist(img_array_6,histtype='step', bins=255,\n",
    "          range=(0.0, 255.0),density=True, color='r')\n",
    "ax5.set_title('Histograma canal A del LAB')\n",
    "ax5.hist(img_array_7,histtype='step', bins=255,\n",
    "          range=(0.0, 255.0),density=True, color='g')\n",
    "ax6.set_title('Histograma canal B del LAB')\n",
    "ax6.hist(img_array_8,histtype='step', bins=255,\n",
    "          range=(0.0, 255.0),density=True, color='b')\n",
    "plt.tight_layout();"
   ]
  },
  {
   "cell_type": "markdown",
   "metadata": {},
   "source": [
    "CONCLUSION: Para el histograma L se presenta una imagen muy clara con exceso de brillo, para los histogramas A y B se presenta una imagen con poco contraste ya que los valores estan concentrados en la parte media del histograma."
   ]
  },
  {
   "cell_type": "code",
   "execution_count": null,
   "metadata": {},
   "outputs": [],
   "source": [
    "# espacio de color YUV\n",
    "img_yuv = cv2.cvtColor(img, cv2.COLOR_BGR2YUV)\n",
    "img_Y = img_yuv[:,:,0]\n",
    "img_U = img_yuv[:,:,1]\n",
    "img_V = img_yuv[:,:,2]\n",
    "\n",
    "img_array_9 = img_Y.ravel()\n",
    "img_array_10 = img_U.ravel()\n",
    "img_array_11 = img_V.ravel()"
   ]
  },
  {
   "cell_type": "code",
   "execution_count": null,
   "metadata": {},
   "outputs": [],
   "source": [
    "fig, ((ax1, ax2, ax3), (ax4, ax5, ax6)) = plt.subplots(2,3, figsize=(12, 4))\n",
    "#fig.suptitle('Canal YUV y sus histogramas', fontsize=20)\n",
    "\n",
    "ax1.set_title('Canal Y del YUV')\n",
    "ax1.imshow(img_Y, cmap='gray', aspect='auto')\n",
    "ax2.set_title('Canal U del YUV')\n",
    "ax2.imshow(img_U, cmap='gray', aspect='auto')\n",
    "ax3.set_title('Canal V del YUV')\n",
    "ax3.imshow(img_V, cmap='gray', aspect='auto')\n",
    "\n",
    "ax4.set_title('Histograma canal Y del YUV')\n",
    "ax4.hist(img_array_9,histtype='step', bins=255,\n",
    "          range=(0.0, 255.0),density=True, color='r')\n",
    "ax5.set_title('Histograma canal U del YUV')\n",
    "ax5.hist(img_array_10,histtype='step', bins=255,\n",
    "          range=(0.0, 255.0),density=True, color='g')\n",
    "ax6.set_title('Histograma canal V del YUV')\n",
    "ax6.hist(img_array_11,histtype='step', bins=255,\n",
    "          range=(0.0, 255.0),density=True, color='b')\n",
    "plt.tight_layout();"
   ]
  },
  {
   "cell_type": "markdown",
   "metadata": {},
   "source": [
    "CONCLUSION: Para el histograma Y se presenta una imagen muy clara con exceso de brillo, para los histogramas U y V se presenta una imagen con poco contraste ya que los valores estan concentrados en la parte media del histograma."
   ]
  },
  {
   "cell_type": "code",
   "execution_count": null,
   "metadata": {},
   "outputs": [],
   "source": [
    "# espacio de color XYZ\n",
    "img_xyz = cv2.cvtColor(img, cv2.COLOR_BGR2XYZ)\n",
    "img_X = img_xyz[:,:,0]\n",
    "img_YY = img_xyz[:,:,1]\n",
    "img_Z = img_xyz[:,:,2]\n",
    "\n",
    "img_array_12 = img_X.ravel()\n",
    "img_array_13 = img_YY.ravel()\n",
    "img_array_14 = img_Z.ravel()"
   ]
  },
  {
   "cell_type": "code",
   "execution_count": null,
   "metadata": {},
   "outputs": [],
   "source": [
    "fig, ((ax1, ax2, ax3), (ax4, ax5, ax6)) = plt.subplots(2,3, figsize=(12, 4))\n",
    "#fig.suptitle('Canal XYZ y sus histogramas', fontsize=20)\n",
    "\n",
    "ax1.set_title('Canal X del XYZ')\n",
    "ax1.imshow(img_X, cmap='gray', aspect='auto')\n",
    "ax2.set_title('Canal Y del XYZ')\n",
    "ax2.imshow(img_YY, cmap='gray', aspect='auto')\n",
    "ax3.set_title('Canal Z del XYZ')\n",
    "ax3.imshow(img_Z, cmap='gray', aspect='auto')\n",
    "\n",
    "ax4.set_title('Histograma canal X del XYZ')\n",
    "ax4.hist(img_array_12,histtype='step', bins=255,\n",
    "          range=(0.0, 255.0),density=True, color='r')\n",
    "ax5.set_title('Histograma canal Y del XYZ')\n",
    "ax5.hist(img_array_13,histtype='step', bins=255,\n",
    "          range=(0.0, 255.0),density=True, color='g')\n",
    "ax6.set_title('Histograma canal Z del XYZ')\n",
    "ax6.hist(img_array_14,histtype='step', bins=255,\n",
    "          range=(0.0, 255.0),density=True, color='b')\n",
    "plt.tight_layout();"
   ]
  },
  {
   "cell_type": "markdown",
   "metadata": {},
   "source": [
    "CONCLUSION: Para el histograma X, Y y Z se presenta una imagen muy clara con exceso de brillo ya que los valores se concentran en el lado derecho del histograma."
   ]
  },
  {
   "cell_type": "markdown",
   "metadata": {},
   "source": [
    "## Actividad 2."
   ]
  },
  {
   "cell_type": "markdown",
   "metadata": {},
   "source": [
    "A continuación se presenta el siguiente problema al aplicar el operador AND sobre la imagen \"pintura.jpg\"\n",
    "\n",
    "<img src=\"res/error.png\"/>\n",
    "\n",
    "Lea la imagen \"pintura.jpg\" y la máscara \"mascara.png\" que se encuentran en la carpeta \"res\".\n",
    "<br>Escriba, en la casilla inferior, un código que arroje este resultado equivocado.</br>"
   ]
  },
  {
   "cell_type": "code",
   "execution_count": null,
   "metadata": {},
   "outputs": [],
   "source": [
    "#Se lee la imagen\n",
    "img = cv2.cvtColor(cv2.imread('res/pintura.jpg'), cv2.COLOR_BGR2RGB)\n",
    "img2 = abs(255 - img)\n",
    "#plt.imshow(img2 ,cmap='gray', aspect='auto')"
   ]
  },
  {
   "cell_type": "code",
   "execution_count": null,
   "metadata": {},
   "outputs": [],
   "source": [
    "#Cargar la máscara, normalizarla dividiendo por 255 (ya que trabajamos datos uint8)\n",
    "mascara = cv2.imread('res/mascara.png')/255\n",
    "#Ajustar el tamaño de la máscara al de la img\n",
    "mascara = cv2.resize(mascara, (img.shape[1], img.shape[0]))"
   ]
  },
  {
   "cell_type": "code",
   "execution_count": null,
   "metadata": {},
   "outputs": [],
   "source": [
    "#out = img * np.logical_and(img, np.logical_not(mascara))\n",
    "#Aplicar la operación AND sobre la imagen de entrada y la máscara\n",
    "out = img2 * mascara\n",
    "out = out/255"
   ]
  },
  {
   "cell_type": "code",
   "execution_count": null,
   "metadata": {},
   "outputs": [],
   "source": [
    "#Generar un subplot 1x3 para mostrar la imagen de entrada, la máscara y la operación AND\n",
    "fig, (ax1,ax2,ax3) = plt.subplots(1,3, figsize=(15, 7))\n",
    "ax1.set_title('Imagen de entrada')\n",
    "ax2.set_title('Máscara')\n",
    "ax3.set_title('Operación lógica')\n",
    "ax1.imshow(img, cmap='gray')\n",
    "ax2.imshow(mascara, cmap='gray')\n",
    "ax3.imshow(out, cmap='gray')"
   ]
  },
  {
   "cell_type": "markdown",
   "metadata": {},
   "source": [
    "Ahora, escriba el código que arroja el resultado correcto sobre la imagen de entrada."
   ]
  },
  {
   "cell_type": "code",
   "execution_count": null,
   "metadata": {},
   "outputs": [],
   "source": [
    "#Se lee la imagen\n",
    "img = cv2.cvtColor(cv2.imread('res/pintura.jpg'), cv2.COLOR_BGR2RGB)\n",
    "#Cargar la máscara, normalizarla dividiendo por 255 (ya que trabajamos datos uint8)\n",
    "mascara = cv2.imread('res/mascara.png')/255"
   ]
  },
  {
   "cell_type": "code",
   "execution_count": null,
   "metadata": {},
   "outputs": [],
   "source": [
    "#Ajustar el tamaño de la máscara al de la img\n",
    "mascara = cv2.resize(mascara, (img.shape[1], img.shape[0]))"
   ]
  },
  {
   "cell_type": "code",
   "execution_count": null,
   "metadata": {},
   "outputs": [],
   "source": [
    "#out = img * np.logical_and(img, np.logical_not(mascara))\n",
    "#Aplicar la operación AND sobre la imagen de entrada y la máscara\n",
    "out = img * mascara\n",
    "out = out/255"
   ]
  },
  {
   "cell_type": "code",
   "execution_count": null,
   "metadata": {},
   "outputs": [],
   "source": [
    "#Generar un subplot 1x3 para mostrar la imagen de entrada, la máscara y la operación AND\n",
    "fig, (ax1,ax2,ax3) = plt.subplots(1,3, figsize=(15, 7))\n",
    "ax1.set_title('Imagen de entrada')\n",
    "ax2.set_title('Máscara')\n",
    "ax3.set_title('Operación lógica')\n",
    "ax1.imshow(img, cmap='gray')\n",
    "ax2.imshow(mascara, cmap='gray')\n",
    "ax3.imshow(out, cmap='gray')"
   ]
  },
  {
   "cell_type": "markdown",
   "metadata": {},
   "source": [
    "Explique, ¿Cómo obtuvo la imagen error? ¿Cómo solucionó el inconveniente?\n",
    "\n",
    "RTA: El error es que se uso el **negativo** de la imagen, se obtiene con la formula:\n",
    "\n",
    "# <center> $ G(x,y) = | b - I(x,y) | $ </center>\n"
   ]
  },
  {
   "cell_type": "markdown",
   "metadata": {},
   "source": []
  },
  {
   "cell_type": "markdown",
   "metadata": {},
   "source": [
    "#### Sugerencia, utilice como base el ejemplo de clase con la imagen \"pibe.jpg\""
   ]
  },
  {
   "cell_type": "markdown",
   "metadata": {},
   "source": [
    "## Actividad 3."
   ]
  },
  {
   "cell_type": "markdown",
   "metadata": {},
   "source": [
    "Una aplicación del operador suma, es la superposición de una imagen con bordes resaltados sobre otra. A continuación se presenta una imagen cuyos bordes quieren hacerse notorios al superponer, pero sólo ha logrado una silueta del modelo, su cliente exige bordes más detallados y que la resolución de la imagen sea 1600x900.\n",
    "\n",
    "<img src=\"res/cliente.png\" style=\"height:150px\"/>\n",
    "\n",
    "Lea la imagen \"tomb.jpg\" que se encuentra en la carpeta \"res\" y encuentre la manera de solucionar el problema planteado."
   ]
  },
  {
   "cell_type": "code",
   "execution_count": null,
   "metadata": {},
   "outputs": [],
   "source": [
    "#Se lee la imagen\n",
    "img = cv2.cvtColor(cv2.imread('res/tomb.jpg'), cv2.COLOR_BGR2RGB)\n",
    "img.shape"
   ]
  },
  {
   "cell_type": "code",
   "execution_count": null,
   "metadata": {},
   "outputs": [],
   "source": [
    "# redimensionar a 1600 x 900\n",
    "img = cv2.resize(img,(1600, 900))\n",
    "img.shape"
   ]
  },
  {
   "cell_type": "code",
   "execution_count": null,
   "metadata": {},
   "outputs": [],
   "source": [
    "#Utilizamos la función cv2.Canny, que corresponde a un algoritmo de detección de bordes\n",
    "edges = cv2.Canny(img, 100, 150)\n",
    "#Resaltar los bordes de blanco si sus pixeles son menores que un valor umbral\n",
    "edges[edges < 128] = 0   \n",
    "#Convertir la imagen edges a RGB\n",
    "edges = cv2.cvtColor(edges, cv2.COLOR_GRAY2RGB)\n",
    "\n",
    "edges[:,:,0]=0               #para obtener el color magenta (255,0,255)"
   ]
  },
  {
   "cell_type": "code",
   "execution_count": null,
   "metadata": {},
   "outputs": [],
   "source": [
    "#Crear una figura 1x3 para mostrar la imagen de entrada, la imagen obtenida con edges y la superposición\n",
    "fig = plt.figure(figsize=(15,15))\n",
    "\n",
    "plt.subplot(1,3,1)\n",
    "plt.imshow(img,cmap='gray')\n",
    "plt.title(\"Imagen 1\")\n",
    "\n",
    "plt.subplot(1,3,2)\n",
    "plt.imshow(edges,cmap='gray')\n",
    "plt.title(\"Imagen 2\")\n",
    "\n",
    "plt.subplot(1,3,3)\n",
    "plt.imshow(cv2.add(img, edges),cmap='gray')\n",
    "plt.title(\"Imagen 3\");"
   ]
  },
  {
   "cell_type": "markdown",
   "metadata": {},
   "source": [
    "CONCLUSION: "
   ]
  },
  {
   "cell_type": "markdown",
   "metadata": {},
   "source": [
    "## Actividad 4."
   ]
  },
  {
   "cell_type": "markdown",
   "metadata": {},
   "source": [
    "La operación multiplicación permite la extracción de regiones de interés utilizando máscaras diferentes. En este caso, se entrega la máscara \"mascara2.png\" y la imagen \"tomb.jpg\" que se encuentran en la carpeta \"res\".\n",
    "\n",
    "<br>Lea la imagen de entrada en escala de grises y obtenga la siguiente región de interés bajo la máscara indicada, nótese la reflexión realizada en la imagen.</br>\n",
    "\n",
    "<img src=\"res/ex.png\" style=\"height:150px\"/>\n"
   ]
  },
  {
   "cell_type": "code",
   "execution_count": null,
   "metadata": {},
   "outputs": [],
   "source": [
    "#Se lee la imagen\n",
    "img = cv2.cvtColor(cv2.imread('res/tomb.jpg'), cv2.COLOR_BGR2GRAY)\n",
    "#plt.imshow(img, cmap='gray')"
   ]
  },
  {
   "cell_type": "code",
   "execution_count": null,
   "metadata": {},
   "outputs": [],
   "source": [
    "#Obtener los datos de filas y columnas de la imagen\n",
    "filas, columnas = img.shape\n",
    "\n",
    "#Generar la matriz de reflexión en Y\n",
    "matriz_afin_ref_y = np.float32([[1,0,0]\n",
    "                                ,[0,-1,filas]])\n",
    "#Aplicar la matriz de transformación de reflexión Y a la imagen\n",
    "img_y = cv2.warpAffine(img,matriz_afin_ref_y, (columnas,filas))"
   ]
  },
  {
   "cell_type": "code",
   "execution_count": null,
   "metadata": {},
   "outputs": [],
   "source": [
    "#plotear imagen\n",
    "#plt.imshow(img_y,cmap='gray')"
   ]
  },
  {
   "cell_type": "code",
   "execution_count": null,
   "metadata": {},
   "outputs": [],
   "source": [
    "#cargar la mascara\n",
    "mascara2 = cv2.cvtColor(cv2.imread('res/mascara2.png'), cv2.COLOR_BGR2GRAY)\n",
    "#redimensionar la mascara\n",
    "mascara2 = cv2.resize(mascara2, (img.shape[1], img.shape[0]))\n",
    "#normalizar la mascara\n",
    "mascara2 = mascara2 / 255\n",
    "#plt.imshow(mascara2, cmap = 'gray')"
   ]
  },
  {
   "cell_type": "code",
   "execution_count": null,
   "metadata": {},
   "outputs": [],
   "source": [
    "#out = img * np.logical_and(img, np.logical_not(mascara))\n",
    "#Aplicar la operación AND sobre la imagen de entrada y la máscara\n",
    "out2 = img_y * mascara2\n",
    "out2 = out2/255"
   ]
  },
  {
   "cell_type": "code",
   "execution_count": null,
   "metadata": {},
   "outputs": [],
   "source": [
    "#Generar un subplot 1x3 para mostrar la imagen de entrada, la máscara y la operación AND\n",
    "fig, (ax1,ax2,ax3) = plt.subplots(1,3, figsize=(15, 7))\n",
    "ax1.set_title('Imagen de entrada')\n",
    "ax2.set_title('Máscara')\n",
    "ax3.set_title('Operación lógica')\n",
    "ax1.imshow(img, cmap='gray')\n",
    "ax2.imshow(mascara2, cmap='gray')\n",
    "ax3.imshow(out2, cmap='gray')"
   ]
  },
  {
   "cell_type": "markdown",
   "metadata": {},
   "source": [
    "## Actividad 5."
   ]
  },
  {
   "cell_type": "markdown",
   "metadata": {},
   "source": [
    "Un cliente, desea colocar una colección de fotos de su físico favorito alrededor de su galería, por tanto posee portarretratos de distinto tamaño y necesita ajustar la imagen a éstos con la mínima pérdida de información, esto significa que NO quiere recortes.\n",
    "\n",
    "<br>La imagen original, se encuentra en la carpeta \"res\" y su nombre es \"feynman.jpg\", el cliente no sabe el tamaño de la imagen original, por lo tanto debe buscarlo.</br>\n",
    "\n",
    "<br>Se le solicita, entregar tres imágenes con los siguientes tamaños (en píxeles): 1600x900, 800x600 y 250x250. Recuerde imprimir en consola el tamaño de la imagen original y las de nuevo tamaño. </br>"
   ]
  },
  {
   "cell_type": "code",
   "execution_count": null,
   "metadata": {},
   "outputs": [],
   "source": [
    "###Escriba aquí el código###\n",
    "\n",
    "#Leer la imagen de entrada a color y convertirla RGB\n",
    "img = cv2.imread('res/feynman.jpg',cv2.IMREAD_COLOR)\n",
    "img = cv2.cvtColor(img, cv2.COLOR_BGR2RGB)\n",
    "\n",
    "#Acercar la imagen de entrada con base en una aproximación de vecinos cercanos\n",
    "#o interpolación bilinear/bicúbica\n",
    "nearest = cv2.resize(img,(1600, 900), interpolation = cv2.INTER_NEAREST)\n",
    "bilinear = cv2.resize(img,(1600, 900), interpolation = cv2.INTER_LINEAR)\n",
    "bicubic = cv2.resize(img,(1600, 900), interpolation = cv2.INTER_CUBIC)\n",
    "\n",
    "#Generar figura 2x2 para mostrar y contrastar las aproximaciones con la imagen original\n",
    "fig = plt.figure(figsize=(12,8))\n",
    "fig.suptitle('1600 x 900', fontsize=20)\n",
    "\n",
    "plt.subplot(2,2,1)\n",
    "plt.imshow(img,cmap='gray')\n",
    "plt.title(\"Imagen Original\")\n",
    "\n",
    "plt.subplot(2,2,2)\n",
    "plt.imshow(nearest,cmap='gray')\n",
    "plt.title(\"Interpolación vecinos más cercanos\")\n",
    "\n",
    "plt.subplot(2,2,3)\n",
    "plt.imshow(bilinear,cmap='gray')\n",
    "plt.title(\"Interpolación bilineal\")\n",
    "\n",
    "plt.subplot(2,2,4)\n",
    "plt.imshow(bilinear,cmap='gray')\n",
    "plt.title(\"Interpolación bicúbica\")\n",
    "\n",
    "#Guardar las imágenes en la carpeta del notebook\n",
    "nearest1600x900 = cv2.cvtColor(nearest, cv2.COLOR_BGR2RGB)\n",
    "bilinear1600x900 = cv2.cvtColor(bilinear, cv2.COLOR_BGR2RGB)\n",
    "bicubic1600x900 = cv2.cvtColor(bicubic, cv2.COLOR_BGR2RGB)\n",
    "\n",
    "\n",
    "cv2.imwrite(\"nearest1600x900.jpg\", nearest);\n",
    "cv2.imwrite(\"bilinear1600x900.jpg\", bilinear);\n",
    "cv2.imwrite(\"bicubic1600x900.jpg\", bicubic);"
   ]
  },
  {
   "cell_type": "code",
   "execution_count": null,
   "metadata": {},
   "outputs": [],
   "source": [
    "###Escriba aquí el código###\n",
    "\n",
    "#Leer la imagen de entrada a color y convertirla RGB\n",
    "img = cv2.imread('res/feynman.jpg',cv2.IMREAD_COLOR)\n",
    "img = cv2.cvtColor(img, cv2.COLOR_BGR2RGB)\n",
    "\n",
    "#Acercar la imagen de entrada con base en una aproximación de vecinos cercanos\n",
    "#o interpolación bilinear/bicúbica\n",
    "nearest = cv2.resize(img,(800, 600), interpolation = cv2.INTER_NEAREST)\n",
    "bilinear = cv2.resize(img,(800, 600), interpolation = cv2.INTER_LINEAR)\n",
    "bicubic = cv2.resize(img,(800, 600), interpolation = cv2.INTER_CUBIC)\n",
    "\n",
    "#Generar figura 2x2 para mostrar y contrastar las aproximaciones con la imagen original\n",
    "fig = plt.figure(figsize=(12,8))\n",
    "fig.suptitle('800 x 600', fontsize=20)\n",
    "\n",
    "plt.subplot(2,2,1)\n",
    "plt.imshow(img,cmap='gray')\n",
    "plt.title(\"Imagen Original\")\n",
    "\n",
    "plt.subplot(2,2,2)\n",
    "plt.imshow(nearest,cmap='gray')\n",
    "plt.title(\"Interpolación vecinos más cercanos\")\n",
    "\n",
    "plt.subplot(2,2,3)\n",
    "plt.imshow(bilinear,cmap='gray')\n",
    "plt.title(\"Interpolación bilineal\")\n",
    "\n",
    "plt.subplot(2,2,4)\n",
    "plt.imshow(bilinear,cmap='gray')\n",
    "plt.title(\"Interpolación bicúbica\")\n",
    "\n",
    "#Guardar las imágenes en la carpeta del notebook\n",
    "nearest = cv2.cvtColor(nearest, cv2.COLOR_BGR2RGB)\n",
    "bilinear = cv2.cvtColor(bilinear, cv2.COLOR_BGR2RGB)\n",
    "bicubic = cv2.cvtColor(bicubic, cv2.COLOR_BGR2RGB)\n",
    "\n",
    "\n",
    "cv2.imwrite(\"nearest800x600.jpg\", nearest);\n",
    "cv2.imwrite(\"bilinear800x600.jpg\", bilinear);\n",
    "cv2.imwrite(\"bicubic800x600.jpg\", bicubic);"
   ]
  },
  {
   "cell_type": "code",
   "execution_count": null,
   "metadata": {},
   "outputs": [],
   "source": [
    "###Escriba aquí el código###\n",
    "\n",
    "#Leer la imagen de entrada a color y convertirla RGB\n",
    "img = cv2.imread('res/feynman.jpg',cv2.IMREAD_COLOR)\n",
    "img = cv2.cvtColor(img, cv2.COLOR_BGR2RGB)\n",
    "\n",
    "#Acercar la imagen de entrada con base en una aproximación de vecinos cercanos\n",
    "#o interpolación bilinear/bicúbica\n",
    "nearest = cv2.resize(img,(250, 250), interpolation = cv2.INTER_NEAREST)\n",
    "bilinear = cv2.resize(img,(250, 250), interpolation = cv2.INTER_LINEAR)\n",
    "bicubic = cv2.resize(img,(250, 250), interpolation = cv2.INTER_CUBIC)\n",
    "\n",
    "#Generar figura 2x2 para mostrar y contrastar las aproximaciones con la imagen original\n",
    "fig = plt.figure(figsize=(12,8))\n",
    "fig.suptitle('250 x 250', fontsize=20)\n",
    "\n",
    "plt.subplot(2,2,1)\n",
    "plt.imshow(img,cmap='gray')\n",
    "plt.title(\"Imagen Original\")\n",
    "\n",
    "plt.subplot(2,2,2)\n",
    "plt.imshow(nearest,cmap='gray')\n",
    "plt.title(\"Interpolación vecinos más cercanos\")\n",
    "\n",
    "plt.subplot(2,2,3)\n",
    "plt.imshow(bilinear,cmap='gray')\n",
    "plt.title(\"Interpolación bilineal\")\n",
    "\n",
    "plt.subplot(2,2,4)\n",
    "plt.imshow(bilinear,cmap='gray')\n",
    "plt.title(\"Interpolación bicúbica\")\n",
    "\n",
    "#Guardar las imágenes en la carpeta del notebook\n",
    "nearest = cv2.cvtColor(nearest, cv2.COLOR_BGR2RGB)\n",
    "bilinear = cv2.cvtColor(bilinear, cv2.COLOR_BGR2RGB)\n",
    "bicubic = cv2.cvtColor(bicubic, cv2.COLOR_BGR2RGB)\n",
    "\n",
    "\n",
    "cv2.imwrite(\"nearest250x250.jpg\", nearest);\n",
    "cv2.imwrite(\"bilinear250x250.jpg\", bilinear);\n",
    "cv2.imwrite(\"bicubic250x250.jpg\", bicubic);"
   ]
  }
 ],
 "metadata": {
  "kernelspec": {
   "display_name": "Python 3",
   "language": "python",
   "name": "python3"
  },
  "language_info": {
   "codemirror_mode": {
    "name": "ipython",
    "version": 3
   },
   "file_extension": ".py",
   "mimetype": "text/x-python",
   "name": "python",
   "nbconvert_exporter": "python",
   "pygments_lexer": "ipython3",
   "version": "3.11.0"
  },
  "vscode": {
   "interpreter": {
    "hash": "5238573367df39f7286bb46f9ff5f08f63a01a80960060ce41e3c79b190280fa"
   }
  }
 },
 "nbformat": 4,
 "nbformat_minor": 2
}
