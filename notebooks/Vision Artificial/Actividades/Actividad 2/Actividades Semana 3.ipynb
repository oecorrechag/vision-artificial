{
 "cells": [
  {
   "cell_type": "markdown",
   "metadata": {},
   "source": [
    "# Actividades Semana 3"
   ]
  },
  {
   "cell_type": "code",
   "execution_count": null,
   "metadata": {},
   "outputs": [],
   "source": [
    "###Espacio para importar las librerías###\n",
    "\n",
    "#Magic para mostrar imágenes en Jupyter usando matplotlib\n",
    "%matplotlib inline \n",
    "\n",
    "import numpy as np\n",
    "import cv2\n",
    "import matplotlib.pyplot as plt"
   ]
  },
  {
   "cell_type": "markdown",
   "metadata": {},
   "source": [
    "## Actividad 1."
   ]
  },
  {
   "cell_type": "markdown",
   "metadata": {},
   "source": [
    "Lea con OpenCV la imagen \"alce.jpg\" que está dentro de la carpeta \"res\". Conviértala a RGB y luego divídala en cuatro cuadrantes tales que el primer cuadrante muestre el color original de la imagen, el segundo muestre el canal azul únicamente, el tercero muestre el canal verde y el cuarto muestre el canal rojo.\n",
    "<br>Debe obtener lo siguiente: </br>\n",
    "\n",
    "<img src=\"res/actividad1.png\"/>"
   ]
  },
  {
   "cell_type": "code",
   "execution_count": null,
   "metadata": {},
   "outputs": [],
   "source": [
    "#Leer y plotear la imagen de trabajo\n",
    "img = cv2.imread(\"res/alce.png\", cv2.IMREAD_COLOR)\n",
    "img_rgb  = cv2.cvtColor(img, cv2.COLOR_BGR2RGB)\n",
    "\n",
    "shape = img.shape\n",
    "print(shape)\n",
    "\n",
    "# cuadrito a azul = 2\n",
    "img[0:int(shape[0]/2), int(shape[1]/2):, 0 ] = 0 \n",
    "img[0:int(shape[0]/2), int(shape[1]/2):, 1 ] = 0\n",
    "\n",
    "# cuadrito a verde = 1\n",
    "img[int(shape[0]/2): , 0:int(shape[1]/2), 0 ] = 0\n",
    "img[int(shape[0]/2): , 0:int(shape[1]/2), 2 ] = 0\n",
    "\n",
    "# cuadrito a rojo = 0\n",
    "img[int(shape[0]/2): , int(shape[1]/2):, 1 ] = 0\n",
    "img[int(shape[0]/2): , int(shape[1]/2):, 2 ] = 0\n",
    "\n",
    "plt.imshow(img)"
   ]
  },
  {
   "cell_type": "markdown",
   "metadata": {},
   "source": [
    "## Actividad 2."
   ]
  },
  {
   "cell_type": "markdown",
   "metadata": {},
   "source": [
    "Algunos problemas de visión artificial, suelen abordarse mediante el estudio de los canales de los espacios de color, algunos de ellos: RGB, HSV, LAB, YUV y XYZ.\n",
    "\n",
    "<br>Lea la imagen \"frutas.jpg\" que se encuentra en la carpeta \"res\" y realice un subplot que muestre la imagen en cada uno de los canales que conforman los espacios de color nombrados anteriormente. Adicionalmente muestre la imagen en escala de grises</br>\n",
    "\n",
    "<br><b>Recuerde colocar título y subtitulos a las figuras.</b></br>"
   ]
  },
  {
   "cell_type": "code",
   "execution_count": null,
   "metadata": {},
   "outputs": [],
   "source": [
    "#Leer y plotear la imagen de trabajo\n",
    "img = cv2.imread(\"res/frutas.jpg\", cv2.IMREAD_COLOR)\n",
    "img_rgb  = cv2.cvtColor(img, cv2.COLOR_BGR2RGB)\n",
    "\n",
    "plt.imshow(img_rgb)"
   ]
  },
  {
   "cell_type": "code",
   "execution_count": null,
   "metadata": {},
   "outputs": [],
   "source": [
    "# espacio de color RGB\n",
    "img_rgb  = cv2.cvtColor(img, cv2.COLOR_BGR2RGB)\n",
    "img_R = img_rgb[:,:,0]\n",
    "img_G = img_rgb[:,:,1]\n",
    "img_B = img_rgb[:,:,2]\n",
    "\n",
    "# Espacio de color HSV\n",
    "img_hsv = cv2.cvtColor(img, cv2.COLOR_BGR2HSV)\n",
    "img_H = img_hsv[:,:,0]\n",
    "img_S =  img_hsv[:,:,1]\n",
    "img_V = img_hsv[:,:,2]\n",
    "\n",
    "# espacio de color LAB\n",
    "img_lab  = cv2.cvtColor(img, cv2.COLOR_BGR2LAB)\n",
    "img_L = img_lab[:,:,0]\n",
    "img_A =  img_lab[:,:,1]\n",
    "img_B = img_lab[:,:,2]\n",
    "\n",
    "#Separar el espacio de color YUV en sus canales individuales\n",
    "img_yuv = cv2.cvtColor(img, cv2.COLOR_BGR2YUV)\n",
    "img_Y = img_yuv[:,:,0]\n",
    "img_U =  img_yuv[:,:,1]\n",
    "img_V = img_yuv[:,:,2]\n",
    "\n",
    "# espacio de color XYZ\n",
    "img_xyz = cv2.cvtColor(img, cv2.COLOR_BGR2XYZ)\n",
    "img_X = img_xyz[:,:,0]\n",
    "img_Y =  img_xyz[:,:,1]\n",
    "img_Z = img_xyz[:,:,2]\n",
    "\n",
    "\n",
    "fig, ((ax1, ax2, ax3), (ax4, ax5, ax6), (ax7, ax8, ax9), (ax10, ax11, ax12), \n",
    "      (ax13, ax14, ax15)) = plt.subplots(5,3, figsize=(28, 28))\n",
    "fig.suptitle('RBG vs HSV vs LAB vs YUV vs XYZ', fontsize=20)\n",
    "\n",
    "ax1.set_title('Canal R del RGB')\n",
    "ax1.imshow(img_R, cmap='Reds', aspect='auto')\n",
    "ax2.set_title('Canal G del RGB')\n",
    "ax2.imshow(img_G, cmap='Greens', aspect='auto')\n",
    "ax3.set_title('Canal B del RGB')\n",
    "ax3.imshow(img_B, cmap='Blues', aspect='auto')\n",
    "\n",
    "\n",
    "ax4.set_title('Canal H* del HSV')\n",
    "ax4.imshow(img_H, cmap='gray', aspect='auto')\n",
    "ax5.set_title('Canal S* del HSV')\n",
    "ax5.imshow(img_S, cmap='gray', aspect='auto')\n",
    "ax6.set_title('Canal V* del HSV')\n",
    "ax6.imshow(img_V, cmap='gray', aspect='auto')\n",
    "\n",
    "\n",
    "ax7.set_title('Canal L* del LAB')\n",
    "ax7.imshow(img_L, cmap='gray', aspect='auto')\n",
    "ax8.set_title('Canal A* del LAB')\n",
    "ax8.imshow(img_A, cmap='gray', aspect='auto')\n",
    "ax9.set_title('Canal B* del LAB')\n",
    "ax9.imshow(img_B, cmap='gray', aspect='auto')\n",
    "\n",
    "\n",
    "ax10.set_title('Canal Y* del YUV')\n",
    "ax10.imshow(img_Y, cmap='gray', aspect='auto')\n",
    "ax11.set_title('Canal U* del YUV')\n",
    "ax11.imshow(img_U, cmap='gray', aspect='auto')\n",
    "ax12.set_title('Canal V* del YUV')\n",
    "ax12.imshow(img_V, cmap='gray', aspect='auto')\n",
    "\n",
    "\n",
    "ax13.set_title('Canal X* del XYZ')\n",
    "ax13.imshow(img_X, cmap='gray', aspect='auto')\n",
    "ax14.set_title('Canal Y* del XYZ')\n",
    "ax14.imshow(img_Y, cmap='gray', aspect='auto')\n",
    "ax15.set_title('Canal Z* del XYZ')\n",
    "ax15.imshow(img_Z, cmap='gray', aspect='auto')"
   ]
  },
  {
   "cell_type": "markdown",
   "metadata": {},
   "source": [
    "¿Qué método propondría usted para diferenciar cada uno de los canales pertenecientes a los diferentes espacios de color? ¿Cómo las diferenciaría de la imagen en escala de grises?"
   ]
  },
  {
   "cell_type": "markdown",
   "metadata": {},
   "source": []
  },
  {
   "cell_type": "markdown",
   "metadata": {},
   "source": [
    "## Actividad 3."
   ]
  },
  {
   "cell_type": "markdown",
   "metadata": {},
   "source": [
    "La versión de NTSC aprobada por la Comisión Federal de Comunicaciones, en Estados Unidos, realiza una ligera variación en las ecuaciones del modelo YIQ: \n",
    "\n",
    "<img src=\"res/modificacion.png\"/>\n",
    "\n",
    "<br>Lea la imagen \"cells.png\" que se encuentra en la carpeta \"res\", escriba un código donde implemente la transformación lineal YIQ  modificada sobre el espacio de color RGB.</br>\n",
    "<br><b>Ayuda: Escriba en forma matricial el sistema para conocer las componentes R, G, B de los canales Y, I, Q.<b></br>"
   ]
  },
  {
   "cell_type": "code",
   "execution_count": null,
   "metadata": {
    "scrolled": true
   },
   "outputs": [],
   "source": [
    "#Leer y plotear la imagen de trabajo\n",
    "img = cv2.imread(\"res/cells.png\", cv2.IMREAD_COLOR)\n",
    "img_rgb  = cv2.cvtColor(img, cv2.COLOR_BGR2RGB)\n",
    "\n",
    "plt.imshow(img_rgb)"
   ]
  },
  {
   "cell_type": "code",
   "execution_count": null,
   "metadata": {},
   "outputs": [],
   "source": [
    "#Se lee la imagen, se descompone en los canales RGB\n",
    "img = cv2.imread(\"res/cells.png\", cv2.IMREAD_COLOR)\n",
    "\n",
    "img_rgb  = cv2.cvtColor(img, cv2.COLOR_BGR2RGB)\n",
    "\n",
    "img_R = img_rgb[:,:,0]\n",
    "img_G = img_rgb[:,:,1]\n",
    "img_B = img_rgb[:,:,2]\n",
    "#Se obtienen los canales YIQ mediante una transformación lineal\n",
    "img_Y = 0.299*img_R + 0.587*img_G + 0.114*img_B\n",
    "img_I = 0.596*img_R - 0.274*img_G - 0.322*img_B\n",
    "img_Q = 0.211*img_R - 0.523*img_G + 0.312*img_B\n",
    "#Se obtienen los canales YIQ MODIFICACION\n",
    "img_Ym = 0.3 * img_R + 0.59 * img_G + 0.11 * img_B\n",
    "img_Im = - 0.27 * (img_B - img_Y) + 0.74 * (img_R - img_Y)\n",
    "img_Qm = 0.41 * (img_B - img_Y) + 0.48 * (img_R - img_Y)\n",
    "#Mostrar y comparar imágenes\n",
    "fig, ((ax1, ax2, ax3), (ax4, ax5, ax6), (ax7, ax8, ax9)) = plt.subplots(3,3, figsize=(28, 15))\n",
    "fig.suptitle('RBG vs YIQ vs YTQ MODIFICADO', fontsize=20)\n",
    "ax1.set_title('Canal R del RGB')\n",
    "ax1.imshow(img_R, cmap='Reds', aspect='auto')\n",
    "ax2.set_title('Canal G del RGB')\n",
    "ax2.imshow(img_G, cmap='Greens', aspect='auto')\n",
    "ax3.set_title('Canal B del RGB')\n",
    "ax3.imshow(img_B, cmap='Blues', aspect='auto')\n",
    "ax4.set_title('Canal Y del YIQ')\n",
    "ax4.imshow(img_Y, cmap='gray', aspect='auto')\n",
    "ax5.set_title('Canal I del YIQ')\n",
    "ax5.imshow(img_I, cmap='gray', aspect='auto')\n",
    "ax6.set_title('Canal Q del YIQ')\n",
    "ax6.imshow(img_Q, cmap='gray', aspect='auto')\n",
    "ax7.set_title('Canal Y del YIQ MODIFICADO')\n",
    "ax7.imshow(img_Ym, cmap='gray', aspect='auto')\n",
    "ax8.set_title('Canal I del YIQ MODIFICADO')\n",
    "ax8.imshow(img_Im, cmap='gray', aspect='auto')\n",
    "ax9.set_title('Canal Q del YIQ MODIFICADO')\n",
    "ax9.imshow(img_Qm, cmap='gray', aspect='auto')"
   ]
  },
  {
   "cell_type": "markdown",
   "metadata": {},
   "source": [
    "¿En qué se diferencia la transformación YIQ, con la transformación ligeramente modificada? ¿Son idénticas? Pruebe comparando con el ejemplo implementado en clase."
   ]
  },
  {
   "cell_type": "markdown",
   "metadata": {},
   "source": [
    "A primera vista las imagenes bajo el modelo YIQ y la modificacion del modelo son iguales. () REVISAR"
   ]
  },
  {
   "cell_type": "markdown",
   "metadata": {},
   "source": [
    "## Actividad 4."
   ]
  },
  {
   "cell_type": "markdown",
   "metadata": {},
   "source": [
    "Obtenga de internet un mapa de alturas cualquiera, en escala de grise. Aplique pseudocolor basado en planos de intensidad, con por lo menos 20 niveles de color NO aleatorios.\n",
    "<br>Ejemplo de mapa utilizable: https://www.leonardobenini.it/wp-content/uploads/2015/05/02-australia-gray.jpg</br>"
   ]
  },
  {
   "cell_type": "code",
   "execution_count": null,
   "metadata": {
    "scrolled": false
   },
   "outputs": [],
   "source": [
    "#Librerias necesarias\n",
    "%matplotlib inline \n",
    "import cv2\n",
    "import numpy as np\n",
    "import random as rand\n",
    "import math \n",
    "import matplotlib.pyplot as plt\n",
    "#Se definen las funciones correspondencia y pseudocolor\n",
    "def correspondence(val, paleta, rango):\n",
    "    '''\n",
    "    Receives the value of the grayscale, the color palette and size of the range array.\n",
    "    Returns a tuple from the palette depending on the part of the range to which val belongs.\n",
    "    '''\n",
    "    #\"Recibe el valor de la escala de grises, la paleta de colores y el tamaño del vector,\n",
    "    #Devuelve una tupla de la paleta dependiendo del intervalo al cual la variable -val- pertenezca\"\n",
    "   \n",
    "    pos=int( (val*(rango)/255))-1\n",
    "    r,g,b=paleta[pos]\n",
    "    return (r,g,b)\n",
    "\n",
    "def pseudocolor(img):\n",
    "    rango= 20\n",
    "    #paleta= [tuple(rand.randint(0,255) for j in range(3)) for i in range(rango)]\n",
    "    paleta = [(42, 203, 240), (29, 122, 13), (59, 160, 41), (250, 250, 11), (239, 166, 41), (185, 121, 47),\n",
    "              (185, 93,47), (169, 63, 10), (157, 29, 7), (144, 8, 8), (130, 37, 10), (116, 31, 7), (105, 27, 7),\n",
    "              (105, 27, 7), (100, 25, 6), (86, 22, 5), (78, 20, 5), (68, 20, 5), (66, 20, 4), (60, 18, 4),\n",
    "              (55, 15, 3), (42, 175, 240)]\n",
    "    #generación aleatoria de la paleta de colores.\n",
    "    tam=np.shape(img)\n",
    "    res=np.zeros((tam[0],tam[1], 3), dtype=np.uint8)\n",
    "    #se aplica a la matriz res, la función de correspondencia con la imagen original en el rango indicado\n",
    "    for r in range(tam[0]):\n",
    "        for c in range(tam[1]):\n",
    "            res[r][c]=correspondence(img[r][c], paleta, rango)\n",
    "    return res\n",
    "#imprimir la imagen en pseudocolor\n",
    "img =  cv2.imread(\"res/australia.jpg\", cv2.IMREAD_GRAYSCALE)\n",
    "pseudocolor_img = pseudocolor(img)\n",
    "plt.figure(figsize = (50,50))\n",
    "plt.imshow(pseudocolor_img)"
   ]
  }
 ],
 "metadata": {
  "kernelspec": {
   "display_name": "Python 3",
   "language": "python",
   "name": "python3"
  },
  "language_info": {
   "codemirror_mode": {
    "name": "ipython",
    "version": 3
   },
   "file_extension": ".py",
   "mimetype": "text/x-python",
   "name": "python",
   "nbconvert_exporter": "python",
   "pygments_lexer": "ipython3",
   "version": "3.11.0 (main, Oct 24 2022, 18:26:48) [MSC v.1933 64 bit (AMD64)]"
  },
  "vscode": {
   "interpreter": {
    "hash": "5238573367df39f7286bb46f9ff5f08f63a01a80960060ce41e3c79b190280fa"
   }
  }
 },
 "nbformat": 4,
 "nbformat_minor": 2
}
