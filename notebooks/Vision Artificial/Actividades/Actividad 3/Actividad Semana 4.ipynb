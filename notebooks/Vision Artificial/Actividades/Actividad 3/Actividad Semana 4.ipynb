{
 "cells": [
  {
   "cell_type": "markdown",
   "metadata": {},
   "source": [
    "# Actividades Semana 4"
   ]
  },
  {
   "cell_type": "markdown",
   "metadata": {},
   "source": [
    "A continuación se presentan los ejercicios que el estudiante debe desarrollar, para afianzar los conceptos vistos acerca de transformaciones básicas de la imagen."
   ]
  },
  {
   "cell_type": "code",
   "execution_count": null,
   "metadata": {},
   "outputs": [],
   "source": [
    "###Espacio para importar las librerías###\n",
    "\n",
    "#Magic para mostrar imágenes en Jupyter usando matplotlib\n",
    "%matplotlib inline \n",
    "\n",
    "import numpy as np\n",
    "import cv2\n",
    "import matplotlib.pyplot as plt"
   ]
  },
  {
   "cell_type": "markdown",
   "metadata": {},
   "source": [
    "# Actividad 1."
   ]
  },
  {
   "cell_type": "markdown",
   "metadata": {},
   "source": [
    "Lea la imagen \"frutas.jpg\" que se encuentra en la carpeta \"res\", realice el subplot de ésta en los canales RGB, HSV, LAB, YUV y XYZ. \n",
    "\n",
    "<br>Genere, compare y analice los histogramas de los canales correspondientes a cada espacio de color</br>\n",
    "\n",
    "<b>Recuerde poner títulos y subtítulos a las imágenes y los histogramas</b>"
   ]
  },
  {
   "cell_type": "code",
   "execution_count": null,
   "metadata": {},
   "outputs": [],
   "source": [
    "#Leer y plotear la imagen de trabajo\n",
    "img = cv2.imread(\"res/frutas.jpg\", cv2.IMREAD_COLOR)"
   ]
  },
  {
   "cell_type": "code",
   "execution_count": null,
   "metadata": {},
   "outputs": [],
   "source": [
    "# espacio de color RGB\n",
    "img_rgb  = cv2.cvtColor(img, cv2.COLOR_BGR2RGB)\n",
    "img_R = img_rgb[:,:,0]\n",
    "img_G = img_rgb[:,:,1]\n",
    "img_B = img_rgb[:,:,2]\n",
    "\n",
    "img_array_0 = img_R.ravel()\n",
    "img_array_1 = img_G.ravel()\n",
    "img_array_2 = img_B.ravel()"
   ]
  },
  {
   "cell_type": "code",
   "execution_count": null,
   "metadata": {},
   "outputs": [],
   "source": [
    "fig, ((ax1, ax2, ax3), (ax4, ax5, ax6)) = plt.subplots(2,3, figsize=(12, 4))\n",
    "#fig.subplots_adjust(hspace=20)\n",
    "fig.suptitle('Canal RBG y sus histogramas', fontsize=20)\n",
    "\n",
    "ax1.set_title('Canal R del RGB')\n",
    "ax1.imshow(img_R, cmap='Reds', aspect='auto')\n",
    "ax2.set_title('Canal G del RGB')\n",
    "ax2.imshow(img_G, cmap='Greens', aspect='auto')\n",
    "ax3.set_title('Canal B del RGB')\n",
    "ax3.imshow(img_B, cmap='Blues', aspect='auto')\n",
    "\n",
    "ax4.set_title('Histograma canal R del RGB')\n",
    "ax4.hist(img_array_0,histtype='step', bins=255,\n",
    "          range=(0.0, 255.0),density=True, color='r')\n",
    "ax5.set_title('Histograma canal G del RGB')\n",
    "ax5.hist(img_array_1,histtype='step', bins=255,\n",
    "          range=(0.0, 255.0),density=True, color='g')\n",
    "ax6.set_title('Histograma canal B del RGB')\n",
    "ax6.hist(img_array_2,histtype='step', bins=255,\n",
    "          range=(0.0, 255.0),density=True, color='b')\n",
    "plt.tight_layout();"
   ]
  },
  {
   "cell_type": "markdown",
   "metadata": {},
   "source": [
    "CONCLUSION: Para los histogramas R y G se presenta que la imagen es muy clara con exceso de brillo. Para el histograma B se presenta una imagen con mucho contraste y muy pocos tonos medios. "
   ]
  },
  {
   "cell_type": "code",
   "execution_count": null,
   "metadata": {},
   "outputs": [],
   "source": [
    "# Espacio de color HSV\n",
    "img_hsv = cv2.cvtColor(img, cv2.COLOR_BGR2HSV)\n",
    "img_H = img_hsv[:,:,0]\n",
    "img_S =  img_hsv[:,:,1]\n",
    "img_V = img_hsv[:,:,2]\n",
    "\n",
    "img_array_3 = img_H.ravel()\n",
    "img_array_4 = img_S.ravel()\n",
    "img_array_5 = img_V.ravel()"
   ]
  },
  {
   "cell_type": "code",
   "execution_count": null,
   "metadata": {},
   "outputs": [],
   "source": [
    "fig, ((ax1, ax2, ax3), (ax4, ax5, ax6)) = plt.subplots(2,3, figsize=(12, 4))\n",
    "fig.suptitle('Canal HSV y sus histogramas', fontsize=20)\n",
    "\n",
    "ax1.set_title('Canal H del HSV')\n",
    "ax1.imshow(img_H, cmap='gray', aspect='auto')\n",
    "ax2.set_title('Canal S del HSV')\n",
    "ax2.imshow(img_S, cmap='gray', aspect='auto')\n",
    "ax3.set_title('Canal V del HSV')\n",
    "ax3.imshow(img_V, cmap='gray', aspect='auto')\n",
    "\n",
    "ax4.set_title('Histograma canal H del HSV')\n",
    "ax4.hist(img_array_3,histtype='step', bins=255,\n",
    "          range=(0.0, 255.0),density=True, color='r')\n",
    "ax5.set_title('Histograma canal S del HSV')\n",
    "ax5.hist(img_array_4,histtype='step', bins=255,\n",
    "          range=(0.0, 255.0),density=True, color='g')\n",
    "ax6.set_title('Histograma canal V del HSV')\n",
    "ax6.hist(img_array_5,histtype='step', bins=255,\n",
    "          range=(0.0, 255.0),density=True, color='b')\n",
    "plt.tight_layout();"
   ]
  },
  {
   "cell_type": "markdown",
   "metadata": {},
   "source": [
    "CONCLUSION: Para el histograma H se presenta una imagen muy oscura, para el histograma S se presenta una imagen una imagen con mucho contraste y pocos tonos medios, para el histograma V se presenta una imagen muy clara con exceso de brillo. "
   ]
  },
  {
   "cell_type": "code",
   "execution_count": null,
   "metadata": {},
   "outputs": [],
   "source": [
    "# espacio de color LAB\n",
    "img_lab  = cv2.cvtColor(img, cv2.COLOR_BGR2LAB)\n",
    "img_L = img_lab[:,:,0]\n",
    "img_A =  img_lab[:,:,1]\n",
    "img_BB = img_lab[:,:,2]\n",
    "\n",
    "img_array_6 = img_L.ravel()\n",
    "img_array_7 = img_A.ravel()\n",
    "img_array_8 = img_BB.ravel()"
   ]
  },
  {
   "cell_type": "code",
   "execution_count": null,
   "metadata": {},
   "outputs": [],
   "source": [
    "fig, ((ax1, ax2, ax3), (ax4, ax5, ax6)) = plt.subplots(2,3, figsize=(12, 4))\n",
    "fig.suptitle('Canal LAB y sus histogramas', fontsize=20)\n",
    "\n",
    "ax1.set_title('Canal L del LAB')\n",
    "ax1.imshow(img_L, cmap='gray', aspect='auto')\n",
    "ax2.set_title('Canal A del LAB')\n",
    "ax2.imshow(img_A, cmap='gray', aspect='auto')\n",
    "ax3.set_title('Canal B del LAB')\n",
    "ax3.imshow(img_BB, cmap='gray', aspect='auto')\n",
    "\n",
    "ax4.set_title('Histograma canal L del LAB')\n",
    "ax4.hist(img_array_6,histtype='step', bins=255,\n",
    "          range=(0.0, 255.0),density=True, color='r')\n",
    "ax5.set_title('Histograma canal A del LAB')\n",
    "ax5.hist(img_array_7,histtype='step', bins=255,\n",
    "          range=(0.0, 255.0),density=True, color='g')\n",
    "ax6.set_title('Histograma canal B del LAB')\n",
    "ax6.hist(img_array_8,histtype='step', bins=255,\n",
    "          range=(0.0, 255.0),density=True, color='b')\n",
    "plt.tight_layout();"
   ]
  },
  {
   "cell_type": "markdown",
   "metadata": {},
   "source": [
    "CONCLUSION: Para el histograma L se presenta una imagen muy clara con exceso de brillo, para los histogramas A y B se presenta una imagen con poco contraste ya que los valores estan concentrados en la parte media del histograma."
   ]
  },
  {
   "cell_type": "code",
   "execution_count": null,
   "metadata": {},
   "outputs": [],
   "source": [
    "# espacio de color YUV\n",
    "img_yuv = cv2.cvtColor(img, cv2.COLOR_BGR2YUV)\n",
    "img_Y = img_yuv[:,:,0]\n",
    "img_U = img_yuv[:,:,1]\n",
    "img_V = img_yuv[:,:,2]\n",
    "\n",
    "img_array_9 = img_Y.ravel()\n",
    "img_array_10 = img_U.ravel()\n",
    "img_array_11 = img_V.ravel()"
   ]
  },
  {
   "cell_type": "code",
   "execution_count": null,
   "metadata": {},
   "outputs": [],
   "source": [
    "fig, ((ax1, ax2, ax3), (ax4, ax5, ax6)) = plt.subplots(2,3, figsize=(12, 4))\n",
    "fig.suptitle('Canal YUV y sus histogramas', fontsize=20)\n",
    "\n",
    "ax1.set_title('Canal Y del YUV')\n",
    "ax1.imshow(img_Y, cmap='gray', aspect='auto')\n",
    "ax2.set_title('Canal U del YUV')\n",
    "ax2.imshow(img_U, cmap='gray', aspect='auto')\n",
    "ax3.set_title('Canal V del YUV')\n",
    "ax3.imshow(img_V, cmap='gray', aspect='auto')\n",
    "\n",
    "ax4.set_title('Histograma canal Y del YUV')\n",
    "ax4.hist(img_array_9,histtype='step', bins=255,\n",
    "          range=(0.0, 255.0),density=True, color='r')\n",
    "ax5.set_title('Histograma canal U del YUV')\n",
    "ax5.hist(img_array_10,histtype='step', bins=255,\n",
    "          range=(0.0, 255.0),density=True, color='g')\n",
    "ax6.set_title('Histograma canal V del YUV')\n",
    "ax6.hist(img_array_11,histtype='step', bins=255,\n",
    "          range=(0.0, 255.0),density=True, color='b')\n",
    "plt.tight_layout();"
   ]
  },
  {
   "cell_type": "markdown",
   "metadata": {},
   "source": [
    "CONCLUSION: Para el histograma Y se presenta una imagen muy clara con exceso de brillo, para los histogramas U y V se presenta una imagen con poco contraste ya que los valores estan concentrados en la parte media del histograma."
   ]
  },
  {
   "cell_type": "code",
   "execution_count": null,
   "metadata": {},
   "outputs": [],
   "source": [
    "# espacio de color XYZ\n",
    "img_xyz = cv2.cvtColor(img, cv2.COLOR_BGR2XYZ)\n",
    "img_X = img_xyz[:,:,0]\n",
    "img_YY = img_xyz[:,:,1]\n",
    "img_Z = img_xyz[:,:,2]\n",
    "\n",
    "img_array_12 = img_X.ravel()\n",
    "img_array_13 = img_YY.ravel()\n",
    "img_array_14 = img_Z.ravel()"
   ]
  },
  {
   "cell_type": "code",
   "execution_count": null,
   "metadata": {},
   "outputs": [],
   "source": [
    "fig, ((ax1, ax2, ax3), (ax4, ax5, ax6)) = plt.subplots(2,3, figsize=(12, 4))\n",
    "fig.suptitle('Canal XYZ y sus histogramas', fontsize=20)\n",
    "\n",
    "ax1.set_title('Canal X del XYZ')\n",
    "ax1.imshow(img_X, cmap='gray', aspect='auto')\n",
    "ax2.set_title('Canal Y del XYZ')\n",
    "ax2.imshow(img_YY, cmap='gray', aspect='auto')\n",
    "ax3.set_title('Canal Z del XYZ')\n",
    "ax3.imshow(img_Z, cmap='gray', aspect='auto')\n",
    "\n",
    "ax4.set_title('Histograma canal X del XYZ')\n",
    "ax4.hist(img_array_12,histtype='step', bins=255,\n",
    "          range=(0.0, 255.0),density=True, color='r')\n",
    "ax5.set_title('Histograma canal Y del XYZ')\n",
    "ax5.hist(img_array_13,histtype='step', bins=255,\n",
    "          range=(0.0, 255.0),density=True, color='g')\n",
    "ax6.set_title('Histograma canal Z del XYZ')\n",
    "ax6.hist(img_array_14,histtype='step', bins=255,\n",
    "          range=(0.0, 255.0),density=True, color='b')\n",
    "plt.tight_layout();"
   ]
  },
  {
   "cell_type": "markdown",
   "metadata": {},
   "source": [
    "CONCLUSION: Para el histograma X, Y y Z se presenta una imagen muy clara con exceso de brillo ya que los valores se concentran en el lado derecho del histograma."
   ]
  },
  {
   "cell_type": "markdown",
   "metadata": {},
   "source": [
    "# Actividad 2."
   ]
  },
  {
   "cell_type": "markdown",
   "metadata": {},
   "source": [
    "No todas las imágenes son adquiridas con un dispositivo electrónico, algunas pueden ser generadas virtualmente y permiten el análisis y obtención de información, como las simulaciones.\n",
    "\n",
    "<br> Cree una imagen de 400x400 píxeles, divídala en rectángulos de 400x100, y píntelos como se muestra a continuación: </br>\n",
    "\n",
    "<img src = res/colores.png>\n",
    "\n",
    "Muestre ésta imagen utilizando el comando plt.imshow, y explique el método que utilizó para crearla.\n",
    "\n",
    "## b)\n",
    "\n",
    "Lea la imagen en los canales R,G y B del espacio de color RGB, asímismo con los canales L,A, B del espacio de color LAB.\n",
    "\n",
    "<br> Muestre, la imagen en los 6 canales con el respectivo histograma asociado. </br>\n",
    "\n",
    "<br> Concluya, respecto a TODOS y cada uno de los canales por separado, qué observa. Recuerde justificar sus observaciones con las relaciones entre los espacios de color y la información consignada en los histogramas respectivos. </br>\n",
    "\n",
    "Para analizar los histogramas obtenidos en el canal LAB es sugerible revisar la calculadora de colores: http://colorizer.org/\n",
    "\n",
    "## c)\n",
    "\n",
    "Lea la imagen \"eiffel.jpg\" que se encuentra en la carpeta \"res\", redimensionela a 800x600 píxeles, muestre la imagen y su histograma asociado.\n",
    "\n",
    "<img src = res/eiffel.jpg width = 400x>\n",
    "\n",
    "<br> Lea la imagen en el espacio de color HSV, posteriormente separe los canales H,S y V. Muestre cada uno de estos canales junto a su histograma asociado, explique, qué observa en cada canal. Recuerde que el espacio de color HSV, es un espacio de Matiz(tonalidad, tinte), Saturación y Brillo. ¿Considera usted que sería fácil separar la torre Eiffel del fondo, con alguno de  estos canales? Justifique.</br>\n",
    "\n",
    "Para más información del canal HSV: https://www.ecured.cu/Modelo_HSV"
   ]
  },
  {
   "cell_type": "markdown",
   "metadata": {},
   "source": [
    "## Solucion: \n",
    "### A: Pasos\n",
    "Se genero una matriz llena de ceros con las dimensiones necesarias 400 x 400 x 3.\n",
    "Se lleno la matriz con 255\n",
    "Para cada parte de la matriz se iba anulando (convertir en 0) la matriz necesaria para generar el color deseado."
   ]
  },
  {
   "cell_type": "code",
   "execution_count": null,
   "metadata": {},
   "outputs": [],
   "source": [
    "#Crear matriz llena de ceros\n",
    "img = np.zeros([400, 400, 3], np.uint8)\n",
    "img[:, :, 0 ] = 255\n",
    "img[:, :, 1 ] = 255\n",
    "img[:, :, 2 ] = 255\n",
    "shape = img.shape\n",
    "print(shape)\n",
    "\n",
    "\n",
    "# cuadrito amarillo\n",
    "img[:, 0:100, 2 ] = 0 \n",
    "\n",
    "# cuadrito azul\n",
    "img[:, 100:200, 0 ] = 0 \n",
    "\n",
    "# cuadrito a rojo\n",
    "img[:, 200:300, 1 ] = 0\n",
    "img[:, 200:300, 2 ] = 0\n",
    "\n",
    "# cuadrito verde\n",
    "img[:, 300:, 0 ] = 0 \n",
    "img[:, 300:, 2 ] = 0 \n",
    "\n",
    "plt.imshow(img)"
   ]
  },
  {
   "cell_type": "markdown",
   "metadata": {},
   "source": [
    "### B: Leer la imagen anterior en los canales RGB y LAB con sus respectivos histogramas\n",
    "\n"
   ]
  },
  {
   "cell_type": "code",
   "execution_count": null,
   "metadata": {},
   "outputs": [],
   "source": [
    "img_R = img[:,:,0]\n",
    "img_G = img[:,:,1]\n",
    "img_B = img[:,:,2]\n",
    "\n",
    "img_array_0B = img_R.ravel()\n",
    "img_array_1B = img_G.ravel()\n",
    "img_array_2B = img_B.ravel()"
   ]
  },
  {
   "cell_type": "code",
   "execution_count": null,
   "metadata": {
    "scrolled": true
   },
   "outputs": [],
   "source": [
    "fig, ((ax1, ax2, ax3), (ax4, ax5, ax6)) = plt.subplots(2,3, figsize=(12, 4))\n",
    "fig.suptitle('Canal XYZ y sus histogramas', fontsize=20)\n",
    "\n",
    "ax1.set_title('Canal R del RGB')\n",
    "ax1.imshow(img_R, cmap='Reds', aspect='auto')\n",
    "ax2.set_title('Canal G del RGB')\n",
    "ax2.imshow(img_G, cmap='Greens', aspect='auto')\n",
    "ax3.set_title('Canal B del RGB')\n",
    "ax3.imshow(img_B, cmap='Blues', aspect='auto')\n",
    "\n",
    "ax4.set_title('Histograma canal R del RGB')\n",
    "ax4.hist(img_array_0B,histtype='step', bins=255,\n",
    "          range=(0.0, 255.0),density=True, color='r')\n",
    "ax5.set_title('Histograma canal G del RGB')\n",
    "ax5.hist(img_array_1B,histtype='step', bins=255,\n",
    "          range=(0.0, 255.0),density=True, color='g')\n",
    "ax6.set_title('Histograma canal B del RGB')\n",
    "ax6.hist(img_array_2B,histtype='step', bins=255,\n",
    "          range=(0.0, 255.0),density=True, color='b')\n",
    "plt.tight_layout();"
   ]
  },
  {
   "cell_type": "markdown",
   "metadata": {},
   "source": [
    "CONCLUSION: \n",
    "- En la figura R, se observa que sobresalen los colores rojo y amarillo, el resto de colores se ven blancos; en el histograma se observa que la figura oscura.\n",
    "- En la figura G, se observa que sobresalen los colores amarillo, azul y verde, el rojo se ve blanco; en el histograma se observa que es una figura clara.\n",
    "- En la figura B, se observa que sobresale el color azul, los demas colores se ven blancos; en el histograma se observa que en una figura oscura."
   ]
  },
  {
   "cell_type": "code",
   "execution_count": null,
   "metadata": {},
   "outputs": [],
   "source": [
    "# espacio de color LAB\n",
    "img_lab  = cv2.cvtColor(img, cv2.COLOR_BGR2LAB)\n",
    "img_L = img_lab[:,:,0]\n",
    "img_A =  img_lab[:,:,1]\n",
    "img_BB = img_lab[:,:,2]\n",
    "\n",
    "img_array_3B = img_L.ravel()\n",
    "img_array_4B = img_A.ravel()\n",
    "img_array_5B = img_BB.ravel()"
   ]
  },
  {
   "cell_type": "code",
   "execution_count": null,
   "metadata": {},
   "outputs": [],
   "source": [
    "fig, ((ax1, ax2, ax3), (ax4, ax5, ax6)) = plt.subplots(2,3, figsize=(12, 4))\n",
    "fig.suptitle('Canal LAB y sus histogramas', fontsize=20)\n",
    "\n",
    "ax1.set_title('Canal L del LAB')\n",
    "ax1.imshow(img_L, cmap='gray', aspect='auto')\n",
    "ax2.set_title('Canal A del LAB')\n",
    "ax2.imshow(img_A, cmap='gray', aspect='auto')\n",
    "ax3.set_title('Canal B del LAB')\n",
    "ax3.imshow(img_BB, cmap='gray', aspect='auto')\n",
    "\n",
    "ax4.set_title('Histograma canal L del LAB')\n",
    "ax4.hist(img_array_3B,histtype='step', bins=255,\n",
    "          range=(0.0, 255.0),density=True, color='r')\n",
    "ax5.set_title('Histograma canal A del LAB')\n",
    "ax5.hist(img_array_4B,histtype='step', bins=255,\n",
    "          range=(0.0, 255.0),density=True, color='g')\n",
    "ax6.set_title('Histograma canal B del LAB')\n",
    "ax6.hist(img_array_5B,histtype='step', bins=255,\n",
    "          range=(0.0, 255.0),density=True, color='b')\n",
    "plt.tight_layout();"
   ]
  },
  {
   "cell_type": "markdown",
   "metadata": {},
   "source": [
    "CONCLUSION:\n",
    "- En la figura L, se observa que el color rojo se ve negro, el color azul se ve blanco, el resto de colores se ven en grices; en el histograma se observa que los valores se concentran en el lado derecho lo que significaria que la imagen es clara. \n",
    "- En la figura A, se observa que el color verde se ve negro, el color rojo se ve blanco, el resto de colores se ven en grices; en el histograma se observa que los valores se concentren al lado izquierdo, menor a 150 lo que significaria que la imagen es oscura.\n",
    "- En la figura B, se observa que el color rojo se ve negro, el color azul se ve blanco, el resto de colores se ven en grices, el histograma no se concentra en algun lado lo que signigicaria que la imagen tiene  mucho contraste. "
   ]
  },
  {
   "cell_type": "markdown",
   "metadata": {},
   "source": [
    "## c)\n",
    "\n",
    "Lea la imagen \"eiffel.jpg\" que se encuentra en la carpeta \"res\", redimensionela a 800x600 píxeles, muestre la imagen y su histograma asociado.\n",
    "\n",
    "<img src = res/eiffel.jpg width = 400x>\n",
    "\n",
    "<br> Lea la imagen en el espacio de color HSV, posteriormente separe los canales H,S y V. Muestre cada uno de estos canales junto a su histograma asociado, explique, qué observa en cada canal. Recuerde que el espacio de color HSV, es un espacio de Matiz(tonalidad, tinte), Saturación y Brillo. ¿Considera usted que sería fácil separar la torre Eiffel del fondo, con alguno de  estos canales? Justifique.</br>\n",
    "\n",
    "Para más información del canal HSV: https://www.ecured.cu/Modelo_HSV"
   ]
  },
  {
   "cell_type": "code",
   "execution_count": null,
   "metadata": {},
   "outputs": [],
   "source": [
    "#Se realiza la lectura de la imagen\n",
    "img = cv2.imread(\"res/eiffel.jpg\", cv2.IMREAD_COLOR)\n",
    "img.shape"
   ]
  },
  {
   "cell_type": "code",
   "execution_count": null,
   "metadata": {},
   "outputs": [],
   "source": [
    "# redimensionar a 800 x 600\n",
    "img = cv2.resize(img,(800,600))\n",
    "img.shape"
   ]
  },
  {
   "cell_type": "code",
   "execution_count": null,
   "metadata": {},
   "outputs": [],
   "source": [
    "img_rgb  = cv2.cvtColor(img, cv2.COLOR_BGR2RGB)\n",
    "# Función de Matplotlib para ver de una imagen\n",
    "plt.imshow(img_rgb)"
   ]
  },
  {
   "cell_type": "code",
   "execution_count": null,
   "metadata": {},
   "outputs": [],
   "source": [
    "# Espacio de color HSV\n",
    "img_hsv = cv2.cvtColor(img, cv2.COLOR_BGR2HSV)\n",
    "img_H = img_hsv[:,:,0]\n",
    "img_S = img_hsv[:,:,1]\n",
    "img_V = img_hsv[:,:,2]\n",
    "\n",
    "img_array_0C = img_H.ravel()\n",
    "img_array_1C = img_S.ravel()\n",
    "img_array_2C = img_V.ravel()"
   ]
  },
  {
   "cell_type": "code",
   "execution_count": null,
   "metadata": {},
   "outputs": [],
   "source": [
    "fig, ((ax1, ax2, ax3), (ax4, ax5, ax6)) = plt.subplots(2,3, figsize=(12, 4))\n",
    "fig.suptitle('Canal HSV y sus histogramas', fontsize=20)\n",
    "\n",
    "ax1.set_title('Canal H del HSV')\n",
    "ax1.imshow(img_H, cmap='gray', aspect='auto')\n",
    "ax2.set_title('Canal S del HSV')\n",
    "ax2.imshow(img_S, cmap='gray', aspect='auto')\n",
    "ax3.set_title('Canal V del HSV')\n",
    "ax3.imshow(img_V, cmap='gray', aspect='auto')\n",
    "\n",
    "ax4.set_title('Histograma canal H del HSV')\n",
    "ax4.hist(img_array_0C, bins=255,\n",
    "          range=(0.0, 255.0),density=True)\n",
    "ax5.set_title('Histograma canal S del HSV')\n",
    "ax5.hist(img_array_1C, bins=255,\n",
    "          range=(0.0, 255.0),density=True)\n",
    "ax6.set_title('Histograma canal V del HSV')\n",
    "ax6.hist(img_array_2C, bins=255,\n",
    "          range=(0.0, 255.0),density=True)\n",
    "plt.tight_layout();"
   ]
  },
  {
   "cell_type": "markdown",
   "metadata": {},
   "source": [
    "CONCLUSION:\n",
    "- En la figura H, se observa que la imagen tiene poco contraste, ya que los valores del histograma estan concentrados al rededor del 100\n",
    "- En la figura S, se observa que la imagen es muy oscura ya que los valores del histograma estan concentrados al lado izquierdo.\n",
    "- En la figura V, se observa que la imagen es muy clara, con exceso de brillo, ya que los valores del histograma estan concentrados al lado derecho.\n",
    "\n",
    "B. ¿Es posible separar la torre Eiffel del fondo, con alguno de estos canales?\n",
    "\n",
    "En la imagen en el canal H del HSV se oserva que la Torre Eiffel sobresale de la imagen, en el histograma se observa un pico al rededor del 100, esto sugiere que la imagen tiene poco contraste, esto quiere decir que los objetos que hay en la imagen son diferenciables entre si, por lo que si es posible separar la Torre Eiffel con el canal H.\n",
    "\n",
    " "
   ]
  },
  {
   "cell_type": "markdown",
   "metadata": {},
   "source": [
    "# Actividad 3."
   ]
  },
  {
   "cell_type": "markdown",
   "metadata": {},
   "source": [
    "Lea la imagen \"col.png\" y la imagen \"jap.png\" que se encuentran en la carpeta \"res\", muestrelas con plt.imshow. NO es necesario mostrar sus histogramas.\n",
    "\n",
    "## a)\n",
    "\n",
    "<br> A continuación, se presenta una transformación sobre ambas imágenes </br>\n",
    "\n",
    "# <center> $ G(x,y) = (1-k)*I1(x,y) + k*I2(x,y) $ </center>\n",
    "\n",
    "# <center> $ 0 < k < 1 $ </center>\n",
    "\n",
    "Realice un código que muestre esta transformación, posteriormente responda:\n",
    "\n",
    "<br> ¿Qué ocurre si k = 1, k = 0, k = 0.5? </br>\n",
    "\n",
    "<br> Recuerde que debe mostrar la imagen \"col.png\", \"jap.png\" y la imagen resultado de la transformación.\n",
    "\n",
    "## b)\n",
    "\n",
    "<br> Implemente la transformación: </br>\n",
    "# <center> $ G(x,y) = a*I1(x,y) + b $ </center>\n",
    " \n",
    "Donde I1(x,y) es la imagen \"col.png\", a & b son constantes.\n",
    "<br> ¿Qué ocurre si a=0 & b es cualquier valor? ¿Qué ocurre si a = 1 & b > 255? </br>\n",
    "<br> Experimente con algún valor arbitrario de a & b y explique su resultado.\n",
    "\n",
    "\n",
    "## Sugerencia: Las transformaciones sobre la imagen deben  aplicarse sobre los tres canales que componen el espacio de color, si aplica la transformación directamente sobre la imagen RGB, OpenCv modificará por defecto el canal rojo."
   ]
  },
  {
   "cell_type": "markdown",
   "metadata": {},
   "source": [
    "## a) \n",
    "# <center> $ G(x,y) = (1-k)*I1(x,y) + k*I2(x,y) $ </center>"
   ]
  },
  {
   "cell_type": "code",
   "execution_count": null,
   "metadata": {},
   "outputs": [],
   "source": [
    "# Se lee la imagen\n",
    "img1 = cv2.cvtColor(cv2.imread('res/col.png'), cv2.COLOR_BGR2RGB)\n",
    "img2 = cv2.cvtColor(cv2.imread('res/jap.png'), cv2.COLOR_BGR2RGB)\n",
    "\n",
    "# Redimensionar a 800 x 600\n",
    "img1 = cv2.resize(img1,(250, 166))\n",
    "\n",
    "# plotear imagenes\n",
    "plt.subplot(121)\n",
    "plt.imshow(img1)\n",
    "plt.title('Imagen 1 Original')\n",
    "\n",
    "plt.subplot(122)\n",
    "plt.imshow(img2)\n",
    "plt.title('Imagen 2 Original')"
   ]
  },
  {
   "cell_type": "code",
   "execution_count": null,
   "metadata": {},
   "outputs": [],
   "source": [
    "# Verificar las dimensiones de las imagenes\n",
    "img1.shape, img2.shape"
   ]
  },
  {
   "cell_type": "code",
   "execution_count": null,
   "metadata": {},
   "outputs": [],
   "source": [
    "# para k = 1\n",
    "k = 1\n",
    "\n",
    "# Se crea la imagen copia\n",
    "img1_mult1 = np.zeros(img1.shape, np.uint8)\n",
    "img2_mult2 = np.zeros(img2.shape, np.uint8)\n",
    "\n",
    "# En este se alojara la nueva imagen\n",
    "img_multA = np.zeros(img1.shape, np.uint8)\n",
    "\n",
    "\n",
    "\n",
    "##### Se calcula la parte izquierda de la suma:      (1 - k) * imagen_1\n",
    "\n",
    "# Se multiplican los valores de cada canal de img por q,w,e unidades\n",
    "q = 1 - k; w = 1 - k; e = 1 - k\n",
    "#Se sustituyen los valores de cada canal de la copia por los valores modificados de la imagen original\n",
    "img1_mult1[:,:,0] = cv2.multiply(img1[:,:,0], q)\n",
    "img1_mult1[:,:,1] = cv2.multiply(img1[:,:,1], w)\n",
    "img1_mult1[:,:,2] = cv2.multiply(img1[:,:,2], e)\n",
    "\n",
    "\n",
    "\n",
    "##### Se calcula la parte derecha de la suma:        k * imagen_2\n",
    "\n",
    "# Se multiplican los valores de cada canal de img por qq,ww,ee unidades\n",
    "qq = k; ww = k; ee = k\n",
    "#Se sustituyen los valores de cada canal de la copia por los valores modificados de la imagen original\n",
    "img2_mult2[:,:,0] = cv2.multiply(img2[:,:,0], qq)\n",
    "img2_mult2[:,:,1] = cv2.multiply(img2[:,:,1], ww)\n",
    "img2_mult2[:,:,2] = cv2.multiply(img2[:,:,2], ee)\n",
    "\n",
    "\n",
    "\n",
    "##### Se realiza la suma:       (1 - k) * imagen_1      +       k * imagen_2\n",
    "\n",
    "img_multA[:,:,0] = img1_mult1[:,:,0] + img2_mult2[:,:,0]\n",
    "img_multA[:,:,1] = img1_mult1[:,:,1] + img2_mult2[:,:,1]\n",
    "img_multA[:,:,2] = img1_mult1[:,:,2] + img2_mult2[:,:,2]"
   ]
  },
  {
   "cell_type": "code",
   "execution_count": null,
   "metadata": {},
   "outputs": [],
   "source": [
    "# plotear las imagenes y su transformacion\n",
    "fig, ((ax1, ax2, ax3)) = plt.subplots(1,3, figsize=(10, 4))\n",
    "fig.suptitle('K = 1', fontsize=20)\n",
    "\n",
    "ax1.set_title('Imagen_1 Orginal')\n",
    "ax1.imshow(img1, cmap=\"gray\")\n",
    "\n",
    "ax2.set_title('Imagen_2 Original')\n",
    "ax2.imshow(img2, cmap=\"gray\")\n",
    "\n",
    "ax3.set_title('Resultado de la transformacion')\n",
    "ax3.imshow(img_multA, cmap=\"gray\")"
   ]
  },
  {
   "cell_type": "markdown",
   "metadata": {},
   "source": [
    "CONCLUSION:\n",
    "\n",
    "- K = 1.0: Se anula la primera imagen por lo que solo queda la segunda imagen."
   ]
  },
  {
   "cell_type": "code",
   "execution_count": null,
   "metadata": {},
   "outputs": [],
   "source": [
    "# para k = 0\n",
    "k = 0\n",
    "\n",
    "# Se crea la imagen copia\n",
    "img1_mult1 = np.zeros(img1.shape, np.uint8)\n",
    "img2_mult2 = np.zeros(img2.shape, np.uint8)\n",
    "\n",
    "# En este se alojara la nueva imagen\n",
    "img_multB = np.zeros(img1.shape, np.uint8)\n",
    "\n",
    "\n",
    "\n",
    "##### Se calcula la parte izquierda de la suma:      (1 - k) * imagen_1\n",
    "\n",
    "# Se multiplican los valores de cada canal de img por q,w,e unidades\n",
    "q = 1 - k; w = 1 - k; e = 1 - k\n",
    "#Se sustituyen los valores de cada canal de la copia por los valores modificados de la imagen original\n",
    "img1_mult1[:,:,0] = cv2.multiply(img1[:,:,0], q)\n",
    "img1_mult1[:,:,1] = cv2.multiply(img1[:,:,1], w)\n",
    "img1_mult1[:,:,2] = cv2.multiply(img1[:,:,2], e)\n",
    "\n",
    "\n",
    "\n",
    "##### Se calcula la parte derecha de la suma:        k * imagen_2\n",
    "\n",
    "# Se multiplican los valores de cada canal de img por qq,ww,ee unidades\n",
    "qq = k; ww = k; ee = k\n",
    "#Se sustituyen los valores de cada canal de la copia por los valores modificados de la imagen original\n",
    "img2_mult2[:,:,0] = cv2.multiply(img2[:,:,0], qq)\n",
    "img2_mult2[:,:,1] = cv2.multiply(img2[:,:,1], ww)\n",
    "img2_mult2[:,:,2] = cv2.multiply(img2[:,:,2], ee)\n",
    "\n",
    "\n",
    "\n",
    "##### Se realiza la suma:       (1 - k) * imagen_1      +       k * imagen_2\n",
    "\n",
    "img_multB[:,:,0] = img1_mult1[:,:,0] + img2_mult2[:,:,0]\n",
    "img_multB[:,:,1] = img1_mult1[:,:,1] + img2_mult2[:,:,1]\n",
    "img_multB[:,:,2] = img1_mult1[:,:,2] + img2_mult2[:,:,2]"
   ]
  },
  {
   "cell_type": "code",
   "execution_count": null,
   "metadata": {
    "scrolled": true
   },
   "outputs": [],
   "source": [
    "# plotear las imagenes y su transformacion\n",
    "fig, ((ax1, ax2, ax3)) = plt.subplots(1,3, figsize=(10, 4))\n",
    "fig.suptitle('K = 0', fontsize=20)\n",
    "\n",
    "ax1.set_title('Imagen_1 Orginal')\n",
    "ax1.imshow(img1, cmap=\"gray\")\n",
    "\n",
    "ax2.set_title('Imagen_2 Original')\n",
    "ax2.imshow(img2, cmap=\"gray\")\n",
    "\n",
    "ax3.set_title('Resultado de la transformacion')\n",
    "ax3.imshow(img_multB, cmap=\"gray\")"
   ]
  },
  {
   "cell_type": "markdown",
   "metadata": {},
   "source": [
    "CONCLUSION:\n",
    "\n",
    "- K = 0.0: Se anula la segunda imagen por lo que solo queda la primera imagen."
   ]
  },
  {
   "cell_type": "code",
   "execution_count": null,
   "metadata": {},
   "outputs": [],
   "source": [
    "# para k = 0\n",
    "k = 0.5\n",
    "\n",
    "# Se crea la imagen copia\n",
    "img1_mult1 = np.zeros(img1.shape, np.uint8)\n",
    "img2_mult2 = np.zeros(img2.shape, np.uint8)\n",
    "\n",
    "# En este se alojara la nueva imagen\n",
    "img_multC = np.zeros(img1.shape, np.uint8)\n",
    "\n",
    "\n",
    "\n",
    "##### Se calcula la parte izquierda de la suma:      (1 - k) * imagen_1\n",
    "\n",
    "# Se multiplican los valores de cada canal de img por q,w,e unidades\n",
    "q = 1 - k; w = 1 - k; e = 1 - k\n",
    "#Se sustituyen los valores de cada canal de la copia por los valores modificados de la imagen original\n",
    "img1_mult1[:,:,0] = cv2.multiply(img1[:,:,0], q)\n",
    "img1_mult1[:,:,1] = cv2.multiply(img1[:,:,1], w)\n",
    "img1_mult1[:,:,2] = cv2.multiply(img1[:,:,2], e)\n",
    "\n",
    "\n",
    "\n",
    "##### Se calcula la parte derecha de la suma:        k * imagen_2\n",
    "\n",
    "# Se multiplican los valores de cada canal de img por qq,ww,ee unidades\n",
    "qq = k; ww = k; ee = k\n",
    "#Se sustituyen los valores de cada canal de la copia por los valores modificados de la imagen original\n",
    "img2_mult2[:,:,0] = cv2.multiply(img2[:,:,0], qq)\n",
    "img2_mult2[:,:,1] = cv2.multiply(img2[:,:,1], ww)\n",
    "img2_mult2[:,:,2] = cv2.multiply(img2[:,:,2], ee)\n",
    "\n",
    "\n",
    "\n",
    "##### Se realiza la suma:       (1 - k) * imagen_1      +       k * imagen_2\n",
    "\n",
    "img_multC[:,:,0] = img1_mult1[:,:,0] + img2_mult2[:,:,0]\n",
    "img_multC[:,:,1] = img1_mult1[:,:,1] + img2_mult2[:,:,1]\n",
    "img_multC[:,:,2] = img1_mult1[:,:,2] + img2_mult2[:,:,2]"
   ]
  },
  {
   "cell_type": "code",
   "execution_count": null,
   "metadata": {
    "scrolled": true
   },
   "outputs": [],
   "source": [
    "# plotear las imagenes y su transformacion\n",
    "fig, ((ax1, ax2, ax3)) = plt.subplots(1,3, figsize=(10, 4))\n",
    "fig.suptitle('K = 0.5', fontsize=20)\n",
    "\n",
    "ax1.set_title('Imagen_1 Orginal')\n",
    "ax1.imshow(img1, cmap=\"gray\")\n",
    "\n",
    "ax2.set_title('Imagen_2 Original')\n",
    "ax2.imshow(img2, cmap=\"gray\")\n",
    "\n",
    "ax3.set_title('Resultado de la transformacion')\n",
    "ax3.imshow(img_multC, cmap=\"gray\")"
   ]
  },
  {
   "cell_type": "markdown",
   "metadata": {},
   "source": [
    "CONCLUSION:\n",
    "\n",
    "- K = 0.5: Se nultiplican las dos imagenes por 0.5, lo que resulta en la suman la mitad de los valores de imagen. "
   ]
  },
  {
   "cell_type": "markdown",
   "metadata": {},
   "source": [
    "## b)\n",
    "\n",
    "<br> Implemente la transformación: </br>\n",
    "# <center> $ G(x,y) = a*I1(x,y) + b $ </center>"
   ]
  },
  {
   "cell_type": "code",
   "execution_count": null,
   "metadata": {},
   "outputs": [],
   "source": [
    "# para a = 0 y b: cualquier numero\n",
    "a = 0\n",
    "b = 123\n",
    "\n",
    "# Se crea la imagen copia\n",
    "img1_mult1 = np.zeros(img1.shape, np.uint8)\n",
    "\n",
    "# En este se alojara la nueva imagen\n",
    "img_multD = np.zeros(img1.shape, np.uint8)\n",
    "\n",
    "\n",
    "\n",
    "##### Se calcula la parte izquierda de la suma:      a * imagen_1\n",
    "\n",
    "# Se multiplican los valores de cada canal de img por q,w,e unidades\n",
    "q = a; w = a; e = a\n",
    "#Se sustituyen los valores de cada canal de la copia por los valores modificados de la imagen original\n",
    "img1_mult1[:,:,0] = cv2.multiply(img1[:,:,0], q)\n",
    "img1_mult1[:,:,1] = cv2.multiply(img1[:,:,1], w)\n",
    "img1_mult1[:,:,2] = cv2.multiply(img1[:,:,2], e)\n",
    "\n",
    "\n",
    "\n",
    "##### Se realiza la suma:       a * imagen_1      +       b\n",
    "\n",
    "img_multD[:,:,0] = cv2.add(img1_mult1[:,:,0], b)\n",
    "img_multD[:,:,1] = cv2.add(img1_mult1[:,:,1], b)\n",
    "img_multD[:,:,2] = cv2.add(img1_mult1[:,:,2], b)"
   ]
  },
  {
   "cell_type": "code",
   "execution_count": null,
   "metadata": {
    "scrolled": true
   },
   "outputs": [],
   "source": [
    "fig, ((ax1, ax2)) = plt.subplots(1,2, figsize=(10, 4))\n",
    "fig.suptitle('a = 0, b = 123', fontsize=20)\n",
    "\n",
    "ax1.set_title('Imagen Orginal')\n",
    "ax1.imshow(img1, cmap=\"gray\")\n",
    "ax2.set_title('Imagen Transformda')\n",
    "ax2.imshow(img_multD, cmap=\"gray\")"
   ]
  },
  {
   "cell_type": "markdown",
   "metadata": {},
   "source": [
    "CONCLUSION:\n",
    "\n",
    "- a = 0, b = 123: Se anuma la imagen y solo se muestra una imagen con todos los valores iguales a b."
   ]
  },
  {
   "cell_type": "code",
   "execution_count": null,
   "metadata": {},
   "outputs": [],
   "source": [
    "# para a = 0 y b: cualquier numero\n",
    "a = 1\n",
    "b = 300\n",
    "\n",
    "# Se crea la imagen copia\n",
    "img1_mult2 = np.zeros(img1.shape, np.uint8)\n",
    "\n",
    "# En este se alojara la nueva imagen\n",
    "img_multE = np.zeros(img1.shape, np.uint8)\n",
    "\n",
    "\n",
    "\n",
    "##### Se calcula la parte izquierda de la suma:      a * imagen_1\n",
    "\n",
    "# Se multiplican los valores de cada canal de img por q,w,e unidades\n",
    "q = a; w = a; e = a\n",
    "#Se sustituyen los valores de cada canal de la copia por los valores modificados de la imagen original\n",
    "img1_mult2[:,:,0] = cv2.multiply(img1[:,:,0], q)\n",
    "img1_mult2[:,:,1] = cv2.multiply(img1[:,:,1], w)\n",
    "img1_mult2[:,:,2] = cv2.multiply(img1[:,:,2], e)\n",
    "\n",
    "\n",
    "\n",
    "##### Se realiza la suma:       a * imagen_1      +       b\n",
    "\n",
    "img_multE[:,:,0] = cv2.add(img1_mult2[:,:,0], b)\n",
    "img_multE[:,:,1] = cv2.add(img1_mult2[:,:,1], b)\n",
    "img_multE[:,:,2] = cv2.add(img1_mult2[:,:,2], b)"
   ]
  },
  {
   "cell_type": "code",
   "execution_count": null,
   "metadata": {
    "scrolled": true
   },
   "outputs": [],
   "source": [
    "fig, ((ax1, ax2)) = plt.subplots(1,2, figsize=(10, 4))\n",
    "fig.suptitle('a = 1, b = 300', fontsize=20)\n",
    "\n",
    "ax1.set_title('Imagen Orginal')\n",
    "ax1.imshow(img1, cmap=\"gray\")\n",
    "ax2.set_title('Imagen Transformda')\n",
    "ax2.imshow(img_multE, cmap=\"gray\")"
   ]
  },
  {
   "cell_type": "markdown",
   "metadata": {},
   "source": [
    "CONCLUSION:\n",
    "\n",
    "- a = 1, b = 300: Los valores de color estan en el rango 0-255, Ya que b es mayor a 255 tomara el valor maximo del rango que es 255, por lo que imprime el color 255 blanco. "
   ]
  },
  {
   "cell_type": "code",
   "execution_count": null,
   "metadata": {},
   "outputs": [],
   "source": [
    "# para a = 0 y b: cualquier numero\n",
    "a = 255\n",
    "b = 0\n",
    "\n",
    "# Se crea la imagen copia\n",
    "img1_mult3 = np.zeros(img1.shape, np.uint8)\n",
    "\n",
    "# En este se alojara la nueva imagen\n",
    "img_multF = np.zeros(img1.shape, np.uint8)\n",
    "\n",
    "\n",
    "\n",
    "##### Se calcula la parte izquierda de la suma:      a * imagen_1\n",
    "\n",
    "# Se multiplican los valores de cada canal de img por q,w,e unidades\n",
    "q = a; w = a; e = a\n",
    "#Se sustituyen los valores de cada canal de la copia por los valores modificados de la imagen original\n",
    "img1_mult3[:,:,0] = cv2.multiply(img1[:,:,0], q)\n",
    "img1_mult3[:,:,1] = cv2.multiply(img1[:,:,1], w)\n",
    "img1_mult3[:,:,2] = cv2.multiply(img1[:,:,2], e)\n",
    "\n",
    "\n",
    "\n",
    "##### Se realiza la suma:       a * imagen_1      +       b\n",
    "\n",
    "img_multF[:,:,0] = cv2.add(img1_mult3[:,:,0], b)\n",
    "img_multF[:,:,1] = cv2.add(img1_mult3[:,:,1], b)\n",
    "img_multF[:,:,2] = cv2.add(img1_mult3[:,:,2], b)"
   ]
  },
  {
   "cell_type": "code",
   "execution_count": null,
   "metadata": {},
   "outputs": [],
   "source": [
    "fig, ((ax1, ax2)) = plt.subplots(1,2, figsize=(10, 4))\n",
    "fig.suptitle('a = 255, b = 0', fontsize=20)\n",
    "\n",
    "ax1.set_title('Imagen Orginal')\n",
    "ax1.imshow(img1, cmap=\"gray\")\n",
    "ax2.set_title('Imagen Transformda')\n",
    "ax2.imshow(img_multF, cmap=\"gray\")"
   ]
  },
  {
   "cell_type": "markdown",
   "metadata": {},
   "source": [
    "CONCLUSION: \n",
    "\n",
    "- a = 255, b = 0:  "
   ]
  },
  {
   "cell_type": "code",
   "execution_count": null,
   "metadata": {},
   "outputs": [],
   "source": [
    "# para a = 0 y b: cualquier numero\n",
    "a = 0\n",
    "b = 123\n",
    "\n",
    "# Se crea la imagen copia\n",
    "img2_mult1 = np.zeros(img2.shape, np.uint8)\n",
    "\n",
    "# En este se alojara la nueva imagen\n",
    "img_multG = np.zeros(img2.shape, np.uint8)\n",
    "\n",
    "\n",
    "\n",
    "##### Se calcula la parte izquierda de la suma:      a * imagen_1\n",
    "\n",
    "# Se multiplican los valores de cada canal de img por q,w,e unidades\n",
    "q = a; w = a; e = a\n",
    "#Se sustituyen los valores de cada canal de la copia por los valores modificados de la imagen original\n",
    "img2_mult1[:,:,0] = cv2.multiply(img2[:,:,0], q)\n",
    "img2_mult1[:,:,1] = cv2.multiply(img2[:,:,1], w)\n",
    "img2_mult1[:,:,2] = cv2.multiply(img2[:,:,2], e)\n",
    "\n",
    "\n",
    "\n",
    "##### Se realiza la suma:       a * imagen_1      +       b\n",
    "\n",
    "img_multG[:,:,0] = cv2.add(img2_mult1[:,:,0], b)\n",
    "img_multG[:,:,1] = cv2.add(img2_mult1[:,:,1], b)\n",
    "img_multG[:,:,2] = cv2.add(img2_mult1[:,:,2], b)"
   ]
  },
  {
   "cell_type": "code",
   "execution_count": null,
   "metadata": {},
   "outputs": [],
   "source": [
    "fig, ((ax1, ax2)) = plt.subplots(1,2, figsize=(10, 4))\n",
    "fig.suptitle('a = 0, b = 123', fontsize=20)\n",
    "\n",
    "ax1.set_title('Imagen Orginal')\n",
    "ax1.imshow(img2, cmap=\"gray\")\n",
    "ax2.set_title('Imagen Transformda')\n",
    "ax2.imshow(img_multG, cmap=\"gray\")"
   ]
  },
  {
   "cell_type": "markdown",
   "metadata": {},
   "source": [
    "CONCLUSION:\n",
    "\n",
    "- a = 0, b = 123: Se anuma la imagen y solo se muestra una imagen con todos los valores iguales a b."
   ]
  },
  {
   "cell_type": "code",
   "execution_count": null,
   "metadata": {},
   "outputs": [],
   "source": [
    "# para a = 0 y b: cualquier numero\n",
    "a = 1\n",
    "b = 300\n",
    "\n",
    "# Se crea la imagen copia\n",
    "img2_mult2 = np.zeros(img2.shape, np.uint8)\n",
    "\n",
    "# En este se alojara la nueva imagen\n",
    "img_multH = np.zeros(img2.shape, np.uint8)\n",
    "\n",
    "\n",
    "\n",
    "##### Se calcula la parte izquierda de la suma:      a * imagen_1\n",
    "\n",
    "# Se multiplican los valores de cada canal de img por q,w,e unidades\n",
    "q = a; w = a; e = a\n",
    "#Se sustituyen los valores de cada canal de la copia por los valores modificados de la imagen original\n",
    "img2_mult2[:,:,0] = cv2.multiply(img2[:,:,0], q)\n",
    "img2_mult2[:,:,1] = cv2.multiply(img2[:,:,1], w)\n",
    "img2_mult2[:,:,2] = cv2.multiply(img2[:,:,2], e)\n",
    "\n",
    "\n",
    "\n",
    "##### Se realiza la suma:       a * imagen_1      +       b\n",
    "\n",
    "img_multH[:,:,0] = cv2.add(img2_mult2[:,:,0], b)\n",
    "img_multH[:,:,1] = cv2.add(img2_mult2[:,:,1], b)\n",
    "img_multH[:,:,2] = cv2.add(img2_mult2[:,:,2], b)"
   ]
  },
  {
   "cell_type": "code",
   "execution_count": null,
   "metadata": {},
   "outputs": [],
   "source": [
    "fig, ((ax1, ax2)) = plt.subplots(1,2, figsize=(10, 4))\n",
    "fig.suptitle('a = 1, b = 300', fontsize=20)\n",
    "\n",
    "ax1.set_title('Imagen Orginal')\n",
    "ax1.imshow(img2, cmap=\"gray\")\n",
    "ax2.set_title('Imagen Transformda')\n",
    "ax2.imshow(img_multH, cmap=\"gray\")"
   ]
  },
  {
   "cell_type": "markdown",
   "metadata": {},
   "source": [
    "CONCLUSION:\n",
    "\n",
    "- a = 1, b = 300: Los valores de color estan en el rango 0-255, Ya que b es mayor a 255 tomara el valor maximo del rango que es 255, por lo que imprime el color 255 blanco. "
   ]
  },
  {
   "cell_type": "code",
   "execution_count": null,
   "metadata": {},
   "outputs": [],
   "source": [
    "# para a = 0 y b: cualquier numero\n",
    "a = 255\n",
    "b = 0\n",
    "\n",
    "# Se crea la imagen copia\n",
    "img2_mult3 = np.zeros(img2.shape, np.uint8)\n",
    "\n",
    "# En este se alojara la nueva imagen\n",
    "img_multI = np.zeros(img2.shape, np.uint8)\n",
    "\n",
    "\n",
    "\n",
    "##### Se calcula la parte izquierda de la suma:      a * imagen_1\n",
    "\n",
    "# Se multiplican los valores de cada canal de img por q,w,e unidades\n",
    "q = a; w = a; e = a\n",
    "#Se sustituyen los valores de cada canal de la copia por los valores modificados de la imagen original\n",
    "img2_mult3[:,:,0] = cv2.multiply(img2[:,:,0], q)\n",
    "img2_mult3[:,:,1] = cv2.multiply(img2[:,:,1], w)\n",
    "img2_mult3[:,:,2] = cv2.multiply(img2[:,:,2], e)\n",
    "\n",
    "\n",
    "\n",
    "##### Se realiza la suma:       a * imagen_1      +       b\n",
    "\n",
    "img_multI[:,:,0] = cv2.add(img2_mult3[:,:,0], b)\n",
    "img_multI[:,:,1] = cv2.add(img2_mult3[:,:,1], b)\n",
    "img_multI[:,:,2] = cv2.add(img2_mult3[:,:,2], b)"
   ]
  },
  {
   "cell_type": "code",
   "execution_count": null,
   "metadata": {},
   "outputs": [],
   "source": [
    "fig, ((ax1, ax2)) = plt.subplots(1,2, figsize=(10, 4))\n",
    "fig.suptitle('a = 255, b = 0', fontsize=20)\n",
    "\n",
    "ax1.set_title('Imagen Orginal')\n",
    "ax1.imshow(img2, cmap=\"gray\")\n",
    "ax2.set_title('Imagen Transformda')\n",
    "ax2.imshow(img_multI, cmap=\"gray\")"
   ]
  },
  {
   "cell_type": "markdown",
   "metadata": {},
   "source": [
    "CONCLUSION: \n",
    "\n",
    "- a = 255, b = 0:  "
   ]
  },
  {
   "cell_type": "markdown",
   "metadata": {},
   "source": [
    "# Actividad 4.\n",
    "\n",
    "Una aplicación del operador suma, es la superposición de una imagen con bordes resaltados sobre otra.  A continuación se presenta una imagen de entrada, obtenga la silueta correspondiente a sus bordes y explique cómo la obtuvo:\n",
    "\n",
    "<img src=\"res/cat.png\" style=\"height:250px\"/>\n",
    "\n",
    "Lea la imagen \"gato.jpg\" que se encuentra en la carpeta \"res\". La silueta no necesariamente debe mostrarse en color magenta, puede utilizar cualquier otro color para resaltarla, tampoco debe hallar exactamente la misma silueta mostrada en la Imagen 2, con un aproximado del ejemplo, es suficiente.\n"
   ]
  },
  {
   "cell_type": "code",
   "execution_count": null,
   "metadata": {},
   "outputs": [],
   "source": [
    "#Leer la imagen de entrada\n",
    "img1 =cv2.cvtColor(cv2.imread('res/gato.jpg'), cv2.COLOR_BGR2RGB)\n",
    "\n",
    "#Utilizamos la función cv2.Canny, que corresponde a un algoritmo de detección de bordes\n",
    "edges = cv2.Canny(img1,100,200)\n",
    "#Resaltar los bordes de blanco si sus pixeles son menores que un valor umbral\n",
    "edges[edges<128] = 0   \n",
    "#Convertir la imagen edges a RGB\n",
    "edges = cv2.cvtColor(edges, cv2.COLOR_GRAY2RGB)\n",
    "\n",
    "edges[:,:,0]=0               #para obtener el color magenta (255,0,255)\n",
    "\n",
    "#Crear una figura 1x3 para mostrar la imagen de entrada, la imagen obtenida con edges y la superposición\n",
    "fig = plt.figure(figsize=(15,15))\n",
    "\n",
    "plt.subplot(1,3,1)\n",
    "plt.imshow(img1,cmap='gray')\n",
    "plt.title(\"Imagen 1\")\n",
    "\n",
    "plt.subplot(1,3,2)\n",
    "plt.imshow(edges,cmap='gray')\n",
    "plt.title(\"Imagen 2\")\n",
    "\n",
    "plt.subplot(1,3,3)\n",
    "plt.imshow(cv2.add(img1,edges),cmap='gray')\n",
    "plt.title(\"Imagen 3\");"
   ]
  },
  {
   "cell_type": "code",
   "execution_count": null,
   "metadata": {},
   "outputs": [],
   "source": [
    "#Leer la imagen de entrada\n",
    "img1 = cv2.cvtColor(cv2.imread('res/conejo.png'), cv2.COLOR_BGR2RGB)\n",
    "\n",
    "#Utilizamos la función cv2.Canny, que corresponde a un algoritmo de detección de bordes\n",
    "edges = cv2.Canny(img1,100,200)\n",
    "#Resaltar los bordes de blanco si sus pixeles son menores que un valor umbral\n",
    "edges[edges<128] = 0   \n",
    "#Convertir la imagen edges a RGB\n",
    "edges = cv2.cvtColor(edges, cv2.COLOR_GRAY2RGB)\n",
    "\n",
    "edges[:,:,2]=0               #para obtener el color magenta (255,0,255)\n",
    "\n",
    "#Crear una figura 1x3 para mostrar la imagen de entrada, la imagen obtenida con edges y la superposición\n",
    "fig = plt.figure(figsize=(15,15))\n",
    "\n",
    "plt.subplot(1,3,1)\n",
    "plt.imshow(img1,cmap='gray')\n",
    "plt.title(\"Imagen 1\")\n",
    "\n",
    "plt.subplot(1,3,2)\n",
    "plt.imshow(edges,cmap='gray')\n",
    "plt.title(\"Imagen 2\")\n",
    "\n",
    "plt.subplot(1,3,3)\n",
    "plt.imshow(cv2.add(img1,edges),cmap='gray')\n",
    "plt.title(\"Imagen 3\");"
   ]
  },
  {
   "cell_type": "markdown",
   "metadata": {},
   "source": [
    "# Actividad 5."
   ]
  },
  {
   "cell_type": "markdown",
   "metadata": {},
   "source": [
    "Un cliente, desea colocar una colección de fotos de su físico favorito alrededor de su galería, por tanto posee portarretratos de distinto tamaño y necesita ajustar la imagen a éstos con la mínima pérdida de información, esto significa que NO quiere recortes.\n",
    "\n",
    "<br>La imagen original, se encuentra en la carpeta \"res\" y su nombre es \"feynman.jpg\", el cliente no sabe el tamaño de la imagen original, por lo tanto debe buscarlo.</br>\n",
    "\n",
    "<br>Se le solicita, entregar tres imágenes con los siguientes tamaños (en píxeles): 1600x900, 800x600 y 250x250. Recuerde imprimir en consola el tamaño de la imagen original y las de nuevo tamaño. Recuerde utilizar interpolaciones bicúbicas, bilinear, entre otras.</br>"
   ]
  },
  {
   "cell_type": "code",
   "execution_count": null,
   "metadata": {},
   "outputs": [],
   "source": [
    "###Escriba aquí el código###\n",
    "\n",
    "#Leer la imagen de entrada a color y convertirla RGB\n",
    "img = cv2.imread('res/feynman.jpg',cv2.IMREAD_COLOR)\n",
    "img = cv2.cvtColor(img, cv2.COLOR_BGR2RGB)\n",
    "\n",
    "#Acercar la imagen de entrada con base en una aproximación de vecinos cercanos\n",
    "#o interpolación bilinear/bicúbica\n",
    "nearest = cv2.resize(img,(1600, 900), interpolation = cv2.INTER_NEAREST)\n",
    "bilinear = cv2.resize(img,(1600, 900), interpolation = cv2.INTER_LINEAR)\n",
    "bicubic = cv2.resize(img,(1600, 900), interpolation = cv2.INTER_CUBIC)\n",
    "\n",
    "#Generar figura 2x2 para mostrar y contrastar las aproximaciones con la imagen original\n",
    "fig = plt.figure(figsize=(12,8))\n",
    "fig.suptitle('1600 x 900', fontsize=20)\n",
    "\n",
    "plt.subplot(2,2,1)\n",
    "plt.imshow(img,cmap='gray')\n",
    "plt.title(\"Imagen Original\")\n",
    "\n",
    "plt.subplot(2,2,2)\n",
    "plt.imshow(nearest,cmap='gray')\n",
    "plt.title(\"Interpolación vecinos más cercanos\")\n",
    "\n",
    "plt.subplot(2,2,3)\n",
    "plt.imshow(bilinear,cmap='gray')\n",
    "plt.title(\"Interpolación bilineal\")\n",
    "\n",
    "plt.subplot(2,2,4)\n",
    "plt.imshow(bilinear,cmap='gray')\n",
    "plt.title(\"Interpolación bicúbica\")\n",
    "\n",
    "#Guardar las imágenes en la carpeta del notebook\n",
    "nearest1600x900 = cv2.cvtColor(nearest, cv2.COLOR_BGR2RGB)\n",
    "bilinear1600x900 = cv2.cvtColor(bilinear, cv2.COLOR_BGR2RGB)\n",
    "bicubic1600x900 = cv2.cvtColor(bicubic, cv2.COLOR_BGR2RGB)\n",
    "\n",
    "\n",
    "cv2.imwrite(\"nearest1600x900.jpg\", nearest);\n",
    "cv2.imwrite(\"bilinear1600x900.jpg\", bilinear);\n",
    "cv2.imwrite(\"bicubic1600x900.jpg\", bicubic);\n"
   ]
  },
  {
   "cell_type": "code",
   "execution_count": null,
   "metadata": {},
   "outputs": [],
   "source": [
    "###Escriba aquí el código###\n",
    "\n",
    "#Leer la imagen de entrada a color y convertirla RGB\n",
    "img = cv2.imread('res/feynman.jpg',cv2.IMREAD_COLOR)\n",
    "img = cv2.cvtColor(img, cv2.COLOR_BGR2RGB)\n",
    "\n",
    "#Acercar la imagen de entrada con base en una aproximación de vecinos cercanos\n",
    "#o interpolación bilinear/bicúbica\n",
    "nearest = cv2.resize(img,(800, 600), interpolation = cv2.INTER_NEAREST)\n",
    "bilinear = cv2.resize(img,(800, 600), interpolation = cv2.INTER_LINEAR)\n",
    "bicubic = cv2.resize(img,(800, 600), interpolation = cv2.INTER_CUBIC)\n",
    "\n",
    "#Generar figura 2x2 para mostrar y contrastar las aproximaciones con la imagen original\n",
    "fig = plt.figure(figsize=(12,8))\n",
    "fig.suptitle('800 x 600', fontsize=20)\n",
    "\n",
    "plt.subplot(2,2,1)\n",
    "plt.imshow(img,cmap='gray')\n",
    "plt.title(\"Imagen Original\")\n",
    "\n",
    "plt.subplot(2,2,2)\n",
    "plt.imshow(nearest,cmap='gray')\n",
    "plt.title(\"Interpolación vecinos más cercanos\")\n",
    "\n",
    "plt.subplot(2,2,3)\n",
    "plt.imshow(bilinear,cmap='gray')\n",
    "plt.title(\"Interpolación bilineal\")\n",
    "\n",
    "plt.subplot(2,2,4)\n",
    "plt.imshow(bilinear,cmap='gray')\n",
    "plt.title(\"Interpolación bicúbica\")\n",
    "\n",
    "#Guardar las imágenes en la carpeta del notebook\n",
    "nearest = cv2.cvtColor(nearest, cv2.COLOR_BGR2RGB)\n",
    "bilinear = cv2.cvtColor(bilinear, cv2.COLOR_BGR2RGB)\n",
    "bicubic = cv2.cvtColor(bicubic, cv2.COLOR_BGR2RGB)\n",
    "\n",
    "\n",
    "cv2.imwrite(\"nearest800x600.jpg\", nearest);\n",
    "cv2.imwrite(\"bilinear800x600.jpg\", bilinear);\n",
    "cv2.imwrite(\"bicubic800x600.jpg\", bicubic);"
   ]
  },
  {
   "cell_type": "code",
   "execution_count": null,
   "metadata": {},
   "outputs": [],
   "source": [
    "###Escriba aquí el código###\n",
    "\n",
    "#Leer la imagen de entrada a color y convertirla RGB\n",
    "img = cv2.imread('res/feynman.jpg',cv2.IMREAD_COLOR)\n",
    "img = cv2.cvtColor(img, cv2.COLOR_BGR2RGB)\n",
    "\n",
    "#Acercar la imagen de entrada con base en una aproximación de vecinos cercanos\n",
    "#o interpolación bilinear/bicúbica\n",
    "nearest = cv2.resize(img,(250, 250), interpolation = cv2.INTER_NEAREST)\n",
    "bilinear = cv2.resize(img,(250, 250), interpolation = cv2.INTER_LINEAR)\n",
    "bicubic = cv2.resize(img,(250, 250), interpolation = cv2.INTER_CUBIC)\n",
    "\n",
    "#Generar figura 2x2 para mostrar y contrastar las aproximaciones con la imagen original\n",
    "fig = plt.figure(figsize=(12,8))\n",
    "fig.suptitle('250 x 250', fontsize=20)\n",
    "\n",
    "plt.subplot(2,2,1)\n",
    "plt.imshow(img,cmap='gray')\n",
    "plt.title(\"Imagen Original\")\n",
    "\n",
    "plt.subplot(2,2,2)\n",
    "plt.imshow(nearest,cmap='gray')\n",
    "plt.title(\"Interpolación vecinos más cercanos\")\n",
    "\n",
    "plt.subplot(2,2,3)\n",
    "plt.imshow(bilinear,cmap='gray')\n",
    "plt.title(\"Interpolación bilineal\")\n",
    "\n",
    "plt.subplot(2,2,4)\n",
    "plt.imshow(bilinear,cmap='gray')\n",
    "plt.title(\"Interpolación bicúbica\")\n",
    "\n",
    "#Guardar las imágenes en la carpeta del notebook\n",
    "nearest = cv2.cvtColor(nearest, cv2.COLOR_BGR2RGB)\n",
    "bilinear = cv2.cvtColor(bilinear, cv2.COLOR_BGR2RGB)\n",
    "bicubic = cv2.cvtColor(bicubic, cv2.COLOR_BGR2RGB)\n",
    "\n",
    "\n",
    "cv2.imwrite(\"nearest250x250.jpg\", nearest);\n",
    "cv2.imwrite(\"bilinear250x250.jpg\", bilinear);\n",
    "cv2.imwrite(\"bicubic250x250.jpg\", bicubic);"
   ]
  }
 ],
 "metadata": {
  "kernelspec": {
   "display_name": "Python 3",
   "language": "python",
   "name": "python3"
  },
  "language_info": {
   "codemirror_mode": {
    "name": "ipython",
    "version": 3
   },
   "file_extension": ".py",
   "mimetype": "text/x-python",
   "name": "python",
   "nbconvert_exporter": "python",
   "pygments_lexer": "ipython3",
   "version": "3.11.0"
  },
  "vscode": {
   "interpreter": {
    "hash": "5238573367df39f7286bb46f9ff5f08f63a01a80960060ce41e3c79b190280fa"
   }
  }
 },
 "nbformat": 4,
 "nbformat_minor": 2
}
