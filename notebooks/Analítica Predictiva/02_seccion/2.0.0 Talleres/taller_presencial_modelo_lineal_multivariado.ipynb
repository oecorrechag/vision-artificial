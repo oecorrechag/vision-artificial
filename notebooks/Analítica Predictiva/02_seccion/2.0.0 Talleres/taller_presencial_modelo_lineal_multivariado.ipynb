{
  "cells": [
    {
      "cell_type": "markdown",
      "id": "683f91bc-4e6d-44fc-ab4b-4b44f562a1b6",
      "metadata": {
        "id": "683f91bc-4e6d-44fc-ab4b-4b44f562a1b6"
      },
      "source": [
        "Taller Presencial --- Estimación de parámetros de un modelo multivariado\n",
        "==="
      ]
    },
    {
      "cell_type": "code",
      "execution_count": 4,
      "id": "8d65bd8f-ea90-40af-a114-bd9abc2a7e18",
      "metadata": {
        "id": "8d65bd8f-ea90-40af-a114-bd9abc2a7e18"
      },
      "outputs": [
        {
          "data": {
            "text/html": [
              "<div>\n",
              "<style scoped>\n",
              "    .dataframe tbody tr th:only-of-type {\n",
              "        vertical-align: middle;\n",
              "    }\n",
              "\n",
              "    .dataframe tbody tr th {\n",
              "        vertical-align: top;\n",
              "    }\n",
              "\n",
              "    .dataframe thead th {\n",
              "        text-align: right;\n",
              "    }\n",
              "</style>\n",
              "<table border=\"1\" class=\"dataframe\">\n",
              "  <thead>\n",
              "    <tr style=\"text-align: right;\">\n",
              "      <th></th>\n",
              "      <th>age</th>\n",
              "      <th>sex</th>\n",
              "      <th>bmi</th>\n",
              "      <th>bp</th>\n",
              "      <th>s1</th>\n",
              "      <th>s2</th>\n",
              "      <th>s3</th>\n",
              "      <th>s4</th>\n",
              "      <th>s5</th>\n",
              "      <th>s6</th>\n",
              "      <th>target</th>\n",
              "    </tr>\n",
              "  </thead>\n",
              "  <tbody>\n",
              "    <tr>\n",
              "      <th>0</th>\n",
              "      <td>0.038076</td>\n",
              "      <td>0.050680</td>\n",
              "      <td>0.061696</td>\n",
              "      <td>0.021872</td>\n",
              "      <td>-0.044223</td>\n",
              "      <td>-0.034821</td>\n",
              "      <td>-0.043401</td>\n",
              "      <td>-0.002592</td>\n",
              "      <td>0.019907</td>\n",
              "      <td>-0.017646</td>\n",
              "      <td>151.0</td>\n",
              "    </tr>\n",
              "    <tr>\n",
              "      <th>1</th>\n",
              "      <td>-0.001882</td>\n",
              "      <td>-0.044642</td>\n",
              "      <td>-0.051474</td>\n",
              "      <td>-0.026328</td>\n",
              "      <td>-0.008449</td>\n",
              "      <td>-0.019163</td>\n",
              "      <td>0.074412</td>\n",
              "      <td>-0.039493</td>\n",
              "      <td>-0.068332</td>\n",
              "      <td>-0.092204</td>\n",
              "      <td>75.0</td>\n",
              "    </tr>\n",
              "    <tr>\n",
              "      <th>2</th>\n",
              "      <td>0.085299</td>\n",
              "      <td>0.050680</td>\n",
              "      <td>0.044451</td>\n",
              "      <td>-0.005670</td>\n",
              "      <td>-0.045599</td>\n",
              "      <td>-0.034194</td>\n",
              "      <td>-0.032356</td>\n",
              "      <td>-0.002592</td>\n",
              "      <td>0.002861</td>\n",
              "      <td>-0.025930</td>\n",
              "      <td>141.0</td>\n",
              "    </tr>\n",
              "    <tr>\n",
              "      <th>3</th>\n",
              "      <td>-0.089063</td>\n",
              "      <td>-0.044642</td>\n",
              "      <td>-0.011595</td>\n",
              "      <td>-0.036656</td>\n",
              "      <td>0.012191</td>\n",
              "      <td>0.024991</td>\n",
              "      <td>-0.036038</td>\n",
              "      <td>0.034309</td>\n",
              "      <td>0.022688</td>\n",
              "      <td>-0.009362</td>\n",
              "      <td>206.0</td>\n",
              "    </tr>\n",
              "    <tr>\n",
              "      <th>4</th>\n",
              "      <td>0.005383</td>\n",
              "      <td>-0.044642</td>\n",
              "      <td>-0.036385</td>\n",
              "      <td>0.021872</td>\n",
              "      <td>0.003935</td>\n",
              "      <td>0.015596</td>\n",
              "      <td>0.008142</td>\n",
              "      <td>-0.002592</td>\n",
              "      <td>-0.031988</td>\n",
              "      <td>-0.046641</td>\n",
              "      <td>135.0</td>\n",
              "    </tr>\n",
              "  </tbody>\n",
              "</table>\n",
              "</div>"
            ],
            "text/plain": [
              "        age       sex       bmi        bp        s1        s2        s3  \\\n",
              "0  0.038076  0.050680  0.061696  0.021872 -0.044223 -0.034821 -0.043401   \n",
              "1 -0.001882 -0.044642 -0.051474 -0.026328 -0.008449 -0.019163  0.074412   \n",
              "2  0.085299  0.050680  0.044451 -0.005670 -0.045599 -0.034194 -0.032356   \n",
              "3 -0.089063 -0.044642 -0.011595 -0.036656  0.012191  0.024991 -0.036038   \n",
              "4  0.005383 -0.044642 -0.036385  0.021872  0.003935  0.015596  0.008142   \n",
              "\n",
              "         s4        s5        s6  target  \n",
              "0 -0.002592  0.019907 -0.017646   151.0  \n",
              "1 -0.039493 -0.068332 -0.092204    75.0  \n",
              "2 -0.002592  0.002861 -0.025930   141.0  \n",
              "3  0.034309  0.022688 -0.009362   206.0  \n",
              "4 -0.002592 -0.031988 -0.046641   135.0  "
            ]
          },
          "execution_count": 4,
          "metadata": {},
          "output_type": "execute_result"
        }
      ],
      "source": [
        "#\n",
        "# Cargue los datos del dataset diabetes (disponible en scikit-learn)  a un dataframe de Pandas\n",
        "#\n",
        "import pandas as pd\n",
        "from sklearn.datasets import load_diabetes\n",
        "\n",
        "bunch = load_diabetes(\n",
        "    # -----------------------------------------------------\n",
        "    # If True, returns (data, target) instead of a Bunch\n",
        "    # object.\n",
        "    return_X_y=False,\n",
        ")\n",
        "\n",
        "diabetes = pd.DataFrame(\n",
        "    bunch.data,\n",
        "    columns=bunch.feature_names,\n",
        ")\n",
        "\n",
        "diabetes[\"target\"] = bunch.target\n",
        "\n",
        "diabetes.head()"
      ]
    },
    {
      "cell_type": "code",
      "execution_count": null,
      "id": "607a515e-2a6d-4013-9b36-80c760b73dc0",
      "metadata": {
        "id": "607a515e-2a6d-4013-9b36-80c760b73dc0"
      },
      "outputs": [],
      "source": [
        "#\n",
        "# En este taller debe estimar los parámetros de un modelo de regrsión no lineal\n",
        "# multivariada para este dataset usando aprendizaje batch. Complete la \n",
        "# siguiente función para que compute el error cuadrático medio.\n",
        "#\n",
        "def mean_squared_error(y_true, y_pred):\n",
        "    errors = [y_true_value - y_forecast for y_true_value, y_forecast in zip(y_true, y_pred)]\n",
        "    sum_squared_errors = sum([error ** 2 for error in errors])\n",
        "    mse = sum_squared_errors/len(y_true)\n",
        "    return mse"
      ]
    },
    {
      "cell_type": "code",
      "execution_count": null,
      "id": "21e3815f-e981-499b-b286-bcbb69b0a5c9",
      "metadata": {
        "id": "21e3815f-e981-499b-b286-bcbb69b0a5c9"
      },
      "outputs": [],
      "source": [
        "#\n",
        "# Complete el siguiente código para que compute el gradiente del intercepto y\n",
        "# de los coeficientes de las variables indpendientes.\n",
        "#\n",
        "def compute_gradient(X, y, intercept_, coef_):\n",
        "    pass\n",
        "\n"
      ]
    },
    {
      "cell_type": "code",
      "execution_count": null,
      "id": "130501e4-5d8e-4784-beaf-e419dba5515f",
      "metadata": {
        "id": "130501e4-5d8e-4784-beaf-e419dba5515f"
      },
      "outputs": [],
      "source": [
        "#\n",
        "# Complete el siguiente código para que realice una iteración del método del \n",
        "# gradiente descendente y retorne el intercepto y los coeficientes de mejorados\n",
        "#\n",
        "def improve(X, y, intercept_, coef_):\n",
        "    pass\n"
      ]
    },
    {
      "cell_type": "code",
      "execution_count": null,
      "id": "c77ca14e-1d86-4e73-b8bc-352c18e297ff",
      "metadata": {
        "id": "c77ca14e-1d86-4e73-b8bc-352c18e297ff"
      },
      "outputs": [],
      "source": [
        "#\n",
        "# Escriba el código necesario para estimar los parámetros de un modelo de \n",
        "# regresión lineal aplicado a los datos del dataset diabetes.\n",
        "#\n"
      ]
    }
  ],
  "metadata": {
    "colab": {
      "provenance": []
    },
    "kernelspec": {
      "display_name": "Python 3.11.0 64-bit",
      "language": "python",
      "name": "python3"
    },
    "language_info": {
      "codemirror_mode": {
        "name": "ipython",
        "version": 3
      },
      "file_extension": ".py",
      "mimetype": "text/x-python",
      "name": "python",
      "nbconvert_exporter": "python",
      "pygments_lexer": "ipython3",
      "version": "3.11.0"
    },
    "vscode": {
      "interpreter": {
        "hash": "5238573367df39f7286bb46f9ff5f08f63a01a80960060ce41e3c79b190280fa"
      }
    }
  },
  "nbformat": 4,
  "nbformat_minor": 5
}
