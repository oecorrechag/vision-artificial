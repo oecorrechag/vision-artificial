{
 "cells": [
  {
   "cell_type": "markdown",
   "id": "6bfc8fc6",
   "metadata": {},
   "source": [
    "# 0.2.7 Make regression"
   ]
  },
  {
   "cell_type": "code",
   "execution_count": 1,
   "id": "53b57b40",
   "metadata": {},
   "outputs": [],
   "source": [
    "%load_ext autoreload\n",
    "%autoreload 2"
   ]
  },
  {
   "cell_type": "code",
   "execution_count": 2,
   "id": "5fb86f3c",
   "metadata": {},
   "outputs": [],
   "source": [
    "import pandas as pd\n",
    "import numpy as np\n",
    "import matplotlib.pyplot as plt\n",
    "from sklearn.datasets import make_regression\n",
    "\n",
    "pd.set_option('display.max_columns', None)\n",
    "pd.set_option('display.max_rows', None)\n",
    "import warnings\n",
    "warnings.filterwarnings(\"ignore\")"
   ]
  },
  {
   "cell_type": "code",
   "execution_count": 3,
   "id": "c3fcd2fc",
   "metadata": {},
   "outputs": [],
   "source": [
    "import sys\n",
    "sys.path.append(\"../../../../\") \n",
    "\n",
    "import utils.paths as path\n",
    "from utils.paths2 import direcciones"
   ]
  },
  {
   "cell_type": "markdown",
   "id": "75423585",
   "metadata": {},
   "source": [
    "## 0.2.7.1 Make regression\n",
    "\n",
    "https://scikit-learn.org/stable/modules/generated/sklearn.datasets.make_classification.html#sklearn.datasets.make_classification"
   ]
  },
  {
   "cell_type": "code",
   "execution_count": 4,
   "id": "afec55af",
   "metadata": {},
   "outputs": [
    {
     "data": {
      "image/png": "[encoded data removed]",
      "text/plain": [
       "<Figure size 504x504 with 1 Axes>"
      ]
     },
     "metadata": {
      "needs_background": "light"
     },
     "output_type": "display_data"
    }
   ],
   "source": [
    "X, y = make_regression(\n",
    "    # -------------------------------------------------------------------------\n",
    "    # The number of samples.\n",
    "    n_samples=100,\n",
    "    # -------------------------------------------------------------------------\n",
    "    # The total number of features.\n",
    "    n_features=1,\n",
    "    # -------------------------------------------------------------------------\n",
    "    # The number of regression targets, i.e., the dimension of the y output\n",
    "    # vector associated with a sample. By default, the output is a scalar.\n",
    "    n_targets=1,\n",
    "    # -------------------------------------------------------------------------\n",
    "    # The bias term in the underlying linear model.\n",
    "    bias=0.0,\n",
    "    # -------------------------------------------------------------------------\n",
    "    # if None:\n",
    "    #   The input set is well conditioned, centered and gaussian with unit\n",
    "    #   variance.\n",
    "    # if not None:\n",
    "    #   The approximate number of singular vectors required to explain most of\n",
    "    #   the input data by linear combinations. Using this kind of singular\n",
    "    #   spectrum in the input allows the generator to reproduce the correlations\n",
    "    #   often observed in practice.\n",
    "    effective_rank=None,\n",
    "    # -------------------------------------------------------------------------\n",
    "    # The relative importance of the fat noisy tail of the singular values\n",
    "    # profile if effective_rank is not None. When a float, it should be between\n",
    "    # 0 and 1.\n",
    "    tail_strength=0.5,\n",
    "    # -------------------------------------------------------------------------\n",
    "    # The standard deviation of the gaussian noise applied to the output.\n",
    "    noise=8.0,\n",
    "    # -------------------------------------------------------------------------\n",
    "    # If True, the coefficients of the underlying linear model are returned.\n",
    "    coef=False,\n",
    "    # -------------------------------------------------------------------------\n",
    "    # Shuffle the samples.\n",
    "    shuffle=False,\n",
    "    # -------------------------------------------------------------------------\n",
    "    # Determines random number generation for dataset\n",
    "    # creation.\n",
    "    random_state=12345,\n",
    ")\n",
    "\n",
    "\n",
    "plt.figure(figsize=(7, 7))\n",
    "plt.scatter(\n",
    "    X[:, 0],\n",
    "    y,\n",
    "    color=\"tab:red\",\n",
    "    edgecolors=\"k\",\n",
    "    s=120,\n",
    "    alpha=0.9,\n",
    ")\n",
    "\n",
    "\n",
    "plt.gca().spines[\"left\"].set_color(\"gray\")\n",
    "plt.gca().spines[\"bottom\"].set_color(\"gray\")\n",
    "plt.gca().spines[\"top\"].set_visible(False)\n",
    "plt.gca().spines[\"right\"].set_visible(False)\n",
    "plt.show()"
   ]
  },
  {
   "cell_type": "code",
   "execution_count": 5,
   "id": "922ab845",
   "metadata": {},
   "outputs": [
    {
     "name": "stdout",
     "output_type": "stream",
     "text": [
      "ok_\n"
     ]
    }
   ],
   "source": [
    "print('ok_')"
   ]
  }
 ],
 "metadata": {
  "kernelspec": {
   "display_name": "Python 3 (ipykernel)",
   "language": "python",
   "name": "python3"
  },
  "language_info": {
   "codemirror_mode": {
    "name": "ipython",
    "version": 3
   },
   "file_extension": ".py",
   "mimetype": "text/x-python",
   "name": "python",
   "nbconvert_exporter": "python",
   "pygments_lexer": "ipython3",
   "version": "3.9.12"
  }
 },
 "nbformat": 4,
 "nbformat_minor": 5
}
