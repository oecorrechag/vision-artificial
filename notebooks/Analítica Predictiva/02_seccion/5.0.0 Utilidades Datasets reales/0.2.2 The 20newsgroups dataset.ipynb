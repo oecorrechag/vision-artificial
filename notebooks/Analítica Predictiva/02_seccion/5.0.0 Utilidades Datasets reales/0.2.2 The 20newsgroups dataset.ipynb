{
 "cells": [
  {
   "attachments": {},
   "cell_type": "markdown",
   "id": "6bfc8fc6",
   "metadata": {},
   "source": [
    "# 0.2.2 The 20newsgroups dataset"
   ]
  },
  {
   "cell_type": "code",
   "execution_count": 1,
   "id": "53b57b40",
   "metadata": {},
   "outputs": [],
   "source": [
    "%load_ext autoreload\n",
    "%autoreload 2"
   ]
  },
  {
   "cell_type": "code",
   "execution_count": 9,
   "id": "5fb86f3c",
   "metadata": {},
   "outputs": [],
   "source": [
    "import pandas as pd\n",
    "import numpy as np\n",
    "import matplotlib.pyplot as plt\n",
    "from sklearn.datasets import fetch_20newsgroups\n",
    "from sklearn.datasets import fetch_20newsgroups_vectorized\n",
    "\n",
    "pd.set_option('display.max_columns', None)\n",
    "pd.set_option('display.max_rows', None)\n",
    "import warnings\n",
    "warnings.filterwarnings(\"ignore\")"
   ]
  },
  {
   "cell_type": "code",
   "execution_count": 3,
   "id": "c3fcd2fc",
   "metadata": {},
   "outputs": [],
   "source": [
    "import sys\n",
    "sys.path.append(\"../../../../\") \n",
    "\n",
    "import utils.paths as path\n",
    "from utils.paths2 import direcciones"
   ]
  },
  {
   "attachments": {},
   "cell_type": "markdown",
   "id": "75423585",
   "metadata": {},
   "source": [
    "## 0.2.2.1 The 20newsgroups dataset\n",
    "\n",
    "https://scikit-learn.org/stable/modules/generated/sklearn.datasets.fetch_20newsgroups.html#sklearn.datasets.fetch_20newsgroups\n",
    "\n",
    "Este dataset contiene la información de 18.846 mensages clasificados en 20 categorías. El dataset se encuentra dividido en un conjunto de entrenamiento y un conjunto de prueba. La partición de los dos conjuntos se baso en la fecha en la cual se publicó el mensaje únicamente."
   ]
  },
  {
   "cell_type": "code",
   "execution_count": 4,
   "id": "afec55af",
   "metadata": {},
   "outputs": [
    {
     "data": {
      "text/plain": [
       "dict_keys(['data', 'filenames', 'target_names', 'target', 'DESCR'])"
      ]
     },
     "execution_count": 4,
     "metadata": {},
     "output_type": "execute_result"
    }
   ],
   "source": [
    "bunch = fetch_20newsgroups(\n",
    "    # -----------------------------------------------------\n",
    "    # Specify another download and cache folder for the\n",
    "    # datasets. By default all scikit-learn data is stored\n",
    "    # in ‘~/scikit_learn_data’ subfolders.\n",
    "    data_home=None,\n",
    "    # -----------------------------------------------------\n",
    "    # Select the dataset to load: ‘train’ for the training\n",
    "    # set, ‘test’ for the test set, ‘all’ for both, with\n",
    "    # shuffled ordering.\n",
    "    subset=\"all\",\n",
    "    # -----------------------------------------------------\n",
    "    # If None (default), load all the categories. If not\n",
    "    # None, list of category names to load (other\n",
    "    # categories ignored).\n",
    "    categories=None,\n",
    "    # -----------------------------------------------------\n",
    "    # Whether or not to shuffle the data\n",
    "    shuffle=False,\n",
    "    # -----------------------------------------------------\n",
    "    # Determines random number generation for dataset\n",
    "    # shuffling.\n",
    "    random_state=None,\n",
    "    # -----------------------------------------------------\n",
    "    # May contain any subset of (‘headers’, ‘footers’,\n",
    "    # ‘quotes’). Each of these are kinds of text that will\n",
    "    # be detected and removed from the newsgroup posts,\n",
    "    # preventing classifiers from overfitting on metadata.\n",
    "    #\n",
    "    # ‘headers’ removes newsgroup headers, ‘footers’ removes\n",
    "    # blocks at the ends of posts that look like signatures,\n",
    "    # and ‘quotes’ removes lines that appear to be quoting\n",
    "    # another post.\n",
    "    #\n",
    "    # ‘headers’ follows an exact standard; the other filters\n",
    "    # are not always correct.\n",
    "    remove=(),\n",
    "    # -----------------------------------------------------\n",
    "    # If True, returns (data, target) instead of a Bunch\n",
    "    # object.\n",
    "    return_X_y=False,\n",
    ")\n",
    "\n",
    "bunch.keys()"
   ]
  },
  {
   "cell_type": "code",
   "execution_count": 5,
   "id": "0f429c58",
   "metadata": {},
   "outputs": [
    {
     "data": {
      "text/plain": [
       "['alt.atheism',\n",
       " 'comp.graphics',\n",
       " 'comp.os.ms-windows.misc',\n",
       " 'comp.sys.ibm.pc.hardware',\n",
       " 'comp.sys.mac.hardware',\n",
       " 'comp.windows.x',\n",
       " 'misc.forsale',\n",
       " 'rec.autos',\n",
       " 'rec.motorcycles',\n",
       " 'rec.sport.baseball',\n",
       " 'rec.sport.hockey',\n",
       " 'sci.crypt',\n",
       " 'sci.electronics',\n",
       " 'sci.med',\n",
       " 'sci.space',\n",
       " 'soc.religion.christian',\n",
       " 'talk.politics.guns',\n",
       " 'talk.politics.mideast',\n",
       " 'talk.politics.misc',\n",
       " 'talk.religion.misc']"
      ]
     },
     "execution_count": 5,
     "metadata": {},
     "output_type": "execute_result"
    }
   ],
   "source": [
    "bunch.target_names"
   ]
  },
  {
   "cell_type": "code",
   "execution_count": 6,
   "id": "09c53e26",
   "metadata": {},
   "outputs": [
    {
     "data": {
      "text/plain": [
       "array([ 9,  4, 11,  4,  0])"
      ]
     },
     "execution_count": 6,
     "metadata": {},
     "output_type": "execute_result"
    }
   ],
   "source": [
    "bunch.target[:5]"
   ]
  },
  {
   "cell_type": "code",
   "execution_count": 7,
   "id": "0f074490",
   "metadata": {},
   "outputs": [
    {
     "name": "stdout",
     "output_type": "stream",
     "text": [
      "From: cubbie@garnet.berkeley.edu (                               )\n",
      "Subject: Re: Cubs behind Marlins? How?\n",
      "Article-I.D.: agate.1pt592$f9a\n",
      "Organization: University of California, Berkeley\n",
      "Lines: 12\n",
      "NNTP-Posting-Host: garnet.berkeley.edu\n",
      "\n",
      "\n",
      "gajarsky@pilot.njin.net writes:\n",
      "\n",
      "morgan and guzman will have era's 1 run higher than last year, and\n",
      " the cubs will be idiots and not pitch harkey as much as hibbard.\n",
      " castillo won't be good (i think he's a stud pitcher)\n",
      "\n",
      "       This season so far, Morgan and Guzman helped to lead the Cubs\n",
      "       at top in ERA, even better than THE rotation at Atlanta.\n",
      "       Cubs ERA at 0.056 while Braves at 0.059. We know it is early\n",
      "       in the season, we Cubs fans have learned how to enjoy the\n",
      "       short triumph while it is still there.\n",
      "\n"
     ]
    }
   ],
   "source": [
    "print(bunch.data[0])"
   ]
  },
  {
   "cell_type": "code",
   "execution_count": 8,
   "id": "ffa9c453",
   "metadata": {},
   "outputs": [
    {
     "data": {
      "text/plain": [
       "[\"From: lerxst@wam.umd.edu (where's my thing)\\nSubject: WHAT car is this!?\\nNntp-Posting-Host: rac3.wam.umd.edu\\nOrganization: University of Maryland, College Park\\nLines: 15\\n\\n I was wondering if anyone out there could enlighten me on this car I saw\\nthe other day. It was a 2-door sports car, looked to be from the late 60s/\\nearly 70s. It was called a Bricklin. The doors were really small. In addition,\\nthe front bumper was separate from the rest of the body. This is \\nall I know. If anyone can tellme a model name, engine specs, years\\nof production, where this car is made, history, or whatever info you\\nhave on this funky looking car, please e-mail.\\n\\nThanks,\\n- IL\\n   ---- brought to you by your neighborhood Lerxst ----\\n\\n\\n\\n\\n\",\n",
       " \"From: guykuo@carson.u.washington.edu (Guy Kuo)\\nSubject: SI Clock Poll - Final Call\\nSummary: Final call for SI clock reports\\nKeywords: SI,acceleration,clock,upgrade\\nArticle-I.D.: shelley.1qvfo9INNc3s\\nOrganization: University of Washington\\nLines: 11\\nNNTP-Posting-Host: carson.u.washington.edu\\n\\nA fair number of brave souls who upgraded their SI clock oscillator have\\nshared their experiences for this poll. Please send a brief message detailing\\nyour experiences with the procedure. Top speed attained, CPU rated speed,\\nadd on cards and adapters, heat sinks, hour of usage per day, floppy disk\\nfunctionality with 800 and 1.4 m floppies are especially requested.\\n\\nI will be summarizing in the next two days, so please add to the network\\nknowledge base if you have done the clock upgrade and haven't answered this\\npoll. Thanks.\\n\\nGuy Kuo <guykuo@u.washington.edu>\\n\"]"
      ]
     },
     "metadata": {},
     "output_type": "display_data"
    },
    {
     "data": {
      "text/plain": [
       "array([7, 4])"
      ]
     },
     "metadata": {},
     "output_type": "display_data"
    }
   ],
   "source": [
    "X, y = fetch_20newsgroups(\n",
    "    # -----------------------------------------------------\n",
    "    # If True, returns (data, target) instead of a Bunch\n",
    "    # object.\n",
    "    return_X_y=True,\n",
    ")\n",
    "\n",
    "display(\n",
    "    X[:2],\n",
    "    y[:2],\n",
    ")"
   ]
  },
  {
   "cell_type": "code",
   "execution_count": null,
   "id": "0a908e1c",
   "metadata": {},
   "outputs": [],
   "source": [
    "bunch = fetch_20newsgroups_vectorized(\n",
    "    # -----------------------------------------------------\n",
    "    # Specify another download and cache folder for the\n",
    "    # datasets. By default all scikit-learn data is stored\n",
    "    # in ‘~/scikit_learn_data’ subfolders.\n",
    "    data_home=None,\n",
    "    # -----------------------------------------------------\n",
    "    # Select the dataset to load: ‘train’ for the training\n",
    "    # set, ‘test’ for the test set, ‘all’ for both, with\n",
    "    # shuffled ordering.\n",
    "    subset=\"all\",\n",
    "    # -----------------------------------------------------\n",
    "    # May contain any subset of (‘headers’, ‘footers’,\n",
    "    # ‘quotes’). Each of these are kinds of text that will\n",
    "    # be detected and removed from the newsgroup posts,\n",
    "    # preventing classifiers from overfitting on metadata.\n",
    "    #\n",
    "    # ‘headers’ removes newsgroup headers, ‘footers’ removes\n",
    "    # blocks at the ends of posts that look like signatures,\n",
    "    # and ‘quotes’ removes lines that appear to be quoting\n",
    "    # another post.\n",
    "    #\n",
    "    # ‘headers’ follows an exact standard; the other filters\n",
    "    # are not always correct.\n",
    "    remove=(),\n",
    "    # -----------------------------------------------------\n",
    "    # If True, returns (data, target) instead of a Bunch\n",
    "    # object.\n",
    "    return_X_y=False,\n",
    ")"
   ]
  },
  {
   "cell_type": "code",
   "execution_count": 13,
   "id": "fba9c302",
   "metadata": {},
   "outputs": [
    {
     "data": {
      "text/plain": [
       "dict_keys(['data', 'filenames', 'target_names', 'target', 'DESCR'])"
      ]
     },
     "execution_count": 13,
     "metadata": {},
     "output_type": "execute_result"
    }
   ],
   "source": [
    "bunch.keys()"
   ]
  },
  {
   "cell_type": "code",
   "execution_count": 15,
   "id": "e4cf668d",
   "metadata": {},
   "outputs": [
    {
     "data": {
      "text/plain": [
       "array([ 9,  4, 11, ...,  4,  6,  7])"
      ]
     },
     "execution_count": 15,
     "metadata": {},
     "output_type": "execute_result"
    }
   ],
   "source": [
    "bunch.target"
   ]
  },
  {
   "cell_type": "code",
   "execution_count": null,
   "id": "922ab845",
   "metadata": {},
   "outputs": [
    {
     "name": "stdout",
     "output_type": "stream",
     "text": [
      "ok_\n"
     ]
    }
   ],
   "source": [
    "print('ok_')"
   ]
  }
 ],
 "metadata": {
  "kernelspec": {
   "display_name": "Python 3",
   "language": "python",
   "name": "python3"
  },
  "language_info": {
   "codemirror_mode": {
    "name": "ipython",
    "version": 3
   },
   "file_extension": ".py",
   "mimetype": "text/x-python",
   "name": "python",
   "nbconvert_exporter": "python",
   "pygments_lexer": "ipython3",
   "version": "3.11.0"
  },
  "vscode": {
   "interpreter": {
    "hash": "5238573367df39f7286bb46f9ff5f08f63a01a80960060ce41e3c79b190280fa"
   }
  }
 },
 "nbformat": 4,
 "nbformat_minor": 5
}
